{
 "cells": [
  {
   "cell_type": "code",
   "execution_count": 1,
   "id": "040bbce8",
   "metadata": {},
   "outputs": [
    {
     "ename": "ImportError",
     "evalue": "cannot import name 'QNSPSA' from 'qiskit.algorithms.optimizers' (/Users/Abby.Mitchell@ibm.com/opt/anaconda3/envs/terra-17/lib/python3.7/site-packages/qiskit/algorithms/optimizers/__init__.py)",
     "output_type": "error",
     "traceback": [
      "\u001b[0;31m---------------------------------------------------------------------------\u001b[0m",
      "\u001b[0;31mImportError\u001b[0m                               Traceback (most recent call last)",
      "\u001b[0;32m<ipython-input-1-b6322dbea9b2>\u001b[0m in \u001b[0;36m<module>\u001b[0;34m\u001b[0m\n\u001b[1;32m      4\u001b[0m \u001b[0;32mfrom\u001b[0m \u001b[0mqiskit\u001b[0m\u001b[0;34m.\u001b[0m\u001b[0mutils\u001b[0m \u001b[0;32mimport\u001b[0m \u001b[0mQuantumInstance\u001b[0m\u001b[0;34m,\u001b[0m \u001b[0malgorithm_globals\u001b[0m\u001b[0;34m\u001b[0m\u001b[0;34m\u001b[0m\u001b[0m\n\u001b[1;32m      5\u001b[0m \u001b[0;32mfrom\u001b[0m \u001b[0mqiskit\u001b[0m\u001b[0;34m.\u001b[0m\u001b[0malgorithms\u001b[0m \u001b[0;32mimport\u001b[0m \u001b[0mVQE\u001b[0m\u001b[0;34m\u001b[0m\u001b[0;34m\u001b[0m\u001b[0m\n\u001b[0;32m----> 6\u001b[0;31m \u001b[0;32mfrom\u001b[0m \u001b[0mqiskit\u001b[0m\u001b[0;34m.\u001b[0m\u001b[0malgorithms\u001b[0m\u001b[0;34m.\u001b[0m\u001b[0moptimizers\u001b[0m \u001b[0;32mimport\u001b[0m \u001b[0mSLSQP\u001b[0m\u001b[0;34m,\u001b[0m \u001b[0mADAM\u001b[0m\u001b[0;34m,\u001b[0m \u001b[0mQNSPSA\u001b[0m\u001b[0;34m\u001b[0m\u001b[0;34m\u001b[0m\u001b[0m\n\u001b[0m\u001b[1;32m      7\u001b[0m \u001b[0;32mfrom\u001b[0m \u001b[0mqiskit\u001b[0m\u001b[0;34m.\u001b[0m\u001b[0mcircuit\u001b[0m\u001b[0;34m.\u001b[0m\u001b[0mlibrary\u001b[0m \u001b[0;32mimport\u001b[0m \u001b[0mTwoLocal\u001b[0m\u001b[0;34m,\u001b[0m \u001b[0mPauliTwoDesign\u001b[0m\u001b[0;34m\u001b[0m\u001b[0;34m\u001b[0m\u001b[0m\n",
      "\u001b[0;31mImportError\u001b[0m: cannot import name 'QNSPSA' from 'qiskit.algorithms.optimizers' (/Users/Abby.Mitchell@ibm.com/opt/anaconda3/envs/terra-17/lib/python3.7/site-packages/qiskit/algorithms/optimizers/__init__.py)"
     ]
    }
   ],
   "source": [
    "import qiskit\n",
    "from qiskit import Aer\n",
    "from qiskit.opflow import X, Z, I\n",
    "from qiskit.utils import QuantumInstance, algorithm_globals\n",
    "from qiskit.algorithms import VQE\n",
    "from qiskit.algorithms.optimizers import SLSQP, ADAM, QNSPSA\n",
    "from qiskit.circuit.library import TwoLocal, PauliTwoDesign"
   ]
  },
  {
   "cell_type": "code",
   "execution_count": 6,
   "id": "44ebe6af",
   "metadata": {},
   "outputs": [],
   "source": [
    "H2_op = (-1.052373245772859 * I ^ I) + \\\n",
    "        (0.39793742484318045 * I ^ Z) + \\\n",
    "        (-0.39793742484318045 * Z ^ I) + \\\n",
    "        (-0.01128010425623538 * Z ^ Z) + \\\n",
    "        (0.18093119978423156 * X ^ X)"
   ]
  },
  {
   "cell_type": "code",
   "execution_count": 11,
   "id": "234ed804",
   "metadata": {},
   "outputs": [
    {
     "ename": "NameError",
     "evalue": "name 'fidelity' is not defined",
     "output_type": "error",
     "traceback": [
      "\u001b[0;31m---------------------------------------------------------------------------\u001b[0m",
      "\u001b[0;31mNameError\u001b[0m                                 Traceback (most recent call last)",
      "\u001b[0;32m<ipython-input-11-73af022f57f1>\u001b[0m in \u001b[0;36m<module>\u001b[0;34m\u001b[0m\n\u001b[1;32m      5\u001b[0m \u001b[0;34m\u001b[0m\u001b[0m\n\u001b[1;32m      6\u001b[0m \u001b[0;31m# QNSPSA:\u001b[0m\u001b[0;34m\u001b[0m\u001b[0;34m\u001b[0m\u001b[0;34m\u001b[0m\u001b[0m\n\u001b[0;32m----> 7\u001b[0;31m \u001b[0mmy_opt\u001b[0m \u001b[0;34m=\u001b[0m \u001b[0mQNSPSA\u001b[0m\u001b[0;34m(\u001b[0m\u001b[0mfidelity\u001b[0m\u001b[0;34m,\u001b[0m \u001b[0mmaxiter\u001b[0m\u001b[0;34m=\u001b[0m\u001b[0;36m1000\u001b[0m\u001b[0;34m)\u001b[0m\u001b[0;34m\u001b[0m\u001b[0;34m\u001b[0m\u001b[0m\n\u001b[0m\u001b[1;32m      8\u001b[0m \u001b[0;34m\u001b[0m\u001b[0m\n\u001b[1;32m      9\u001b[0m \u001b[0;31m# ADAM:\u001b[0m\u001b[0;34m\u001b[0m\u001b[0;34m\u001b[0m\u001b[0;34m\u001b[0m\u001b[0m\n",
      "\u001b[0;31mNameError\u001b[0m: name 'fidelity' is not defined"
     ]
    }
   ],
   "source": [
    "# set up optimisers:\n",
    "\n",
    "# SLSQP:\n",
    "# my_opt = SLSQP(maxiter=1000)\n",
    "\n",
    "# QNSPSA:\n",
    "my_opt = QNSPSA(fidelity, maxiter=1000)\n",
    "\n",
    "# ADAM:\n",
    "# my_opt = ADAM(maxiter=1000)"
   ]
  },
  {
   "cell_type": "code",
   "execution_count": 2,
   "id": "f1ddb2d2",
   "metadata": {},
   "outputs": [
    {
     "data": {
      "text/plain": [
       "{'qiskit-terra': '0.17.0', 'qiskit-aer': '0.8.2', 'qiskit-ignis': '0.6.0', 'qiskit-ibmq-provider': None, 'qiskit-aqua': '0.9.1', 'qiskit': None}"
      ]
     },
     "execution_count": 2,
     "metadata": {},
     "output_type": "execute_result"
    }
   ],
   "source": [
    "qiskit.__qiskit_version__"
   ]
  },
  {
   "cell_type": "code",
   "execution_count": 18,
   "id": "8ad7e9ca",
   "metadata": {},
   "outputs": [
    {
     "name": "stdout",
     "output_type": "stream",
     "text": [
      "{   'aux_operator_eigenvalues': None,\n",
      "    'cost_function_evals': 7001,\n",
      "    'eigenstate': array([ 8.53553391e-01+1.14967765e-08j, -1.05132805e-09-3.53553391e-01j,\n",
      "       -1.05132866e-09+3.53553391e-01j, -1.46446609e-01+1.97253476e-09j]),\n",
      "    'eigenvalue': (-1.1484788977930933+0j),\n",
      "    'optimal_parameters': {   ParameterVectorElement(θ[1]): 1.5645826144607016,\n",
      "                              ParameterVectorElement(θ[2]): 25.96335152999994,\n",
      "                              ParameterVectorElement(θ[3]): 6.2893990090180765,\n",
      "                              ParameterVectorElement(θ[0]): -21.250962566058167},\n",
      "    'optimal_point': array([-21.25096257,   1.56458261,  25.96335153,   6.28939901]),\n",
      "    'optimal_value': -1.1484788977930933,\n",
      "    'optimizer_evals': None,\n",
      "    'optimizer_time': 35.11342716217041}\n"
     ]
    }
   ],
   "source": [
    "seed = 50\n",
    "algorithm_globals.random_seed = seed\n",
    "qi = QuantumInstance(Aer.get_backend('statevector_simulator'), seed_transpiler=seed, seed_simulator=seed)\n",
    "\n",
    "ansatz = PauliTwoDesign(2, reps=1, seed=seed)\n",
    "\n",
    "fidelity = QNSPSA.get_fidelity(ansatz)\n",
    "my_opt = QNSPSA(fidelity, maxiter=1000)\n",
    "\n",
    "vqe = VQE(ansatz, optimizer=my_opt, quantum_instance=qi)\n",
    "result = vqe.compute_minimum_eigenvalue(operator=H2_op)\n",
    "print(result)\n",
    "optimizer_evals = result.optimizer_evals"
   ]
  },
  {
   "cell_type": "code",
   "execution_count": 16,
   "id": "a59eb266",
   "metadata": {},
   "outputs": [
    {
     "ename": "NameError",
     "evalue": "name 'array' is not defined",
     "output_type": "error",
     "traceback": [
      "\u001b[0;31m---------------------------------------------------------------------------\u001b[0m",
      "\u001b[0;31mNameError\u001b[0m                                 Traceback (most recent call last)",
      "\u001b[0;32m<ipython-input-16-6083fddac531>\u001b[0m in \u001b[0;36m<module>\u001b[0;34m\u001b[0m\n\u001b[1;32m      1\u001b[0m {   'aux_operator_eigenvalues': None,\n\u001b[1;32m      2\u001b[0m     \u001b[0;34m'cost_function_evals'\u001b[0m\u001b[0;34m:\u001b[0m \u001b[0;36m7001\u001b[0m\u001b[0;34m,\u001b[0m\u001b[0;34m\u001b[0m\u001b[0;34m\u001b[0m\u001b[0m\n\u001b[0;32m----> 3\u001b[0;31m     'eigenstate': array([ 8.53553391e-01+1.14967765e-08j, -1.05132805e-09-3.53553391e-01j,\n\u001b[0m\u001b[1;32m      4\u001b[0m        -1.05132866e-09+3.53553391e-01j, -1.46446609e-01+1.97253476e-09j]),\n\u001b[1;32m      5\u001b[0m     \u001b[0;34m'eigenvalue'\u001b[0m\u001b[0;34m:\u001b[0m \u001b[0;34m(\u001b[0m\u001b[0;34m-\u001b[0m\u001b[0;36m1.1484788977930933\u001b[0m\u001b[0;34m+\u001b[0m\u001b[0;36m0j\u001b[0m\u001b[0;34m)\u001b[0m\u001b[0;34m,\u001b[0m\u001b[0;34m\u001b[0m\u001b[0;34m\u001b[0m\u001b[0m\n",
      "\u001b[0;31mNameError\u001b[0m: name 'array' is not defined"
     ]
    }
   ],
   "source": [
    "# run 1\n",
    "\n",
    "# {   'aux_operator_eigenvalues': None,\n",
    "#     'cost_function_evals': 7001,\n",
    "#     'eigenstate': array([ 8.53553391e-01+1.14967765e-08j, -1.05132805e-09-3.53553391e-01j,\n",
    "#        -1.05132866e-09+3.53553391e-01j, -1.46446609e-01+1.97253476e-09j]),\n",
    "#     'eigenvalue': (-1.1484788977930933+0j),\n",
    "#     'optimal_parameters': {   ParameterVectorElement(θ[0]): -21.250962566058167,\n",
    "#                               ParameterVectorElement(θ[2]): 25.96335152999994,\n",
    "#                               ParameterVectorElement(θ[1]): 1.5645826144607016,\n",
    "#                               ParameterVectorElement(θ[3]): 6.2893990090180765},\n",
    "#     'optimal_point': array([-21.25096257,   1.56458261,  25.96335153,   6.28939901]),\n",
    "#     'optimal_value': -1.1484788977930933,\n",
    "#     'optimizer_evals': None,\n",
    "#     'optimizer_time': 32.57551121711731}"
   ]
  },
  {
   "cell_type": "code",
   "execution_count": null,
   "id": "99de451c",
   "metadata": {},
   "outputs": [],
   "source": []
  }
 ],
 "metadata": {
  "kernelspec": {
   "display_name": "Python 3",
   "language": "python",
   "name": "python3"
  },
  "language_info": {
   "codemirror_mode": {
    "name": "ipython",
    "version": 3
   },
   "file_extension": ".py",
   "mimetype": "text/x-python",
   "name": "python",
   "nbconvert_exporter": "python",
   "pygments_lexer": "ipython3",
   "version": "3.7.11"
  }
 },
 "nbformat": 4,
 "nbformat_minor": 5
}
