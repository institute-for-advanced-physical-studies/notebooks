{
 "cells": [
  {
   "cell_type": "markdown",
   "metadata": {},
   "source": [
    "# #6246 Initialize should be composed of Resets + StatePreparation"
   ]
  },
  {
   "cell_type": "markdown",
   "metadata": {},
   "source": [
    "### Motivation\n",
    "\n",
    "- Existing `Initialize` class adds a reset followed by some state preparation functionality (differs for int, string, statevector etc.)\n",
    "- Users want to be able to prepare state without automatically adding a reset, use more `Gate` functions (`Initialize` is an Instruction, can't inverse, add controls etc.)\n",
    "- Original GitHub issue:https://github.com/Qiskit/qiskit-terra/issues/6246\n",
    "- Stack Exchange: https://quantumcomputing.stackexchange.com/questions/24535/is-it-possible-to-create-a-controlled-initialize-instruction-in-qiskit"
   ]
  },
  {
   "cell_type": "markdown",
   "metadata": {},
   "source": [
    "### New StatePreparation Class\n",
    "\n",
    "TL;DR \n",
    "\n",
    "a `Gate` that does everything `Initialize` used to do, without adding a reset\n",
    "\n",
    "`Initialize` now adds a reset calls `StatePreparation` under the hood\n",
    "\n",
    "Users can continue to use `Initialize` the same as before"
   ]
  },
  {
   "cell_type": "markdown",
   "metadata": {},
   "source": [
    "### Imports"
   ]
  },
  {
   "cell_type": "code",
   "execution_count": 64,
   "metadata": {},
   "outputs": [],
   "source": [
    "import numpy as np\n",
    "import math\n",
    "from qiskit import QuantumCircuit, QuantumRegister, ClassicalRegister\n",
    "\n",
    "from qiskit.extensions.quantum_initializer import Initialize\n",
    "from qiskit.circuit.library import StatePreparation"
   ]
  },
  {
   "cell_type": "markdown",
   "metadata": {},
   "source": [
    "### Initialize Implementation"
   ]
  },
  {
   "cell_type": "code",
   "execution_count": 17,
   "metadata": {},
   "outputs": [
    {
     "data": {
      "text/html": [
       "<pre style=\"word-wrap: normal;white-space: pre;background: #fff0;line-height: 1.1;font-family: &quot;Courier New&quot;,Courier,monospace\">      ┌──────────────────────────────────┐\n",
       "q8_0: ┤0                                 ├\n",
       "      │  Initialize(0.70711,0,0,0.70711) │\n",
       "q8_1: ┤1                                 ├\n",
       "      └──────────────────────────────────┘</pre>"
      ],
      "text/plain": [
       "      ┌──────────────────────────────────┐\n",
       "q8_0: ┤0                                 ├\n",
       "      │  Initialize(0.70711,0,0,0.70711) │\n",
       "q8_1: ┤1                                 ├\n",
       "      └──────────────────────────────────┘"
      ]
     },
     "execution_count": 17,
     "metadata": {},
     "output_type": "execute_result"
    }
   ],
   "source": [
    "qr = QuantumRegister(2)\n",
    "qc_init = QuantumCircuit(qr)\n",
    "\n",
    "# int param\n",
    "init = Initialize(2)\n",
    "\n",
    "# string param\n",
    "# init = Initialize('11')\n",
    "\n",
    "# statevector param\n",
    "# init = Initialize([1 / math.sqrt(2), 0, 0, 1 / math.sqrt(2)])\n",
    "\n",
    "qc_init.append(init, qr)\n",
    "\n",
    "qc_init.draw()"
   ]
  },
  {
   "cell_type": "code",
   "execution_count": 18,
   "metadata": {},
   "outputs": [
    {
     "data": {
      "text/html": [
       "<pre style=\"word-wrap: normal;white-space: pre;background: #fff0;line-height: 1.1;font-family: &quot;Courier New&quot;,Courier,monospace\">           ┌─────────────────────────────────────────┐\n",
       "q8_0: ─|0>─┤0                                        ├\n",
       "           │  State Preparation(0.70711,0,0,0.70711) │\n",
       "q8_1: ─|0>─┤1                                        ├\n",
       "           └─────────────────────────────────────────┘</pre>"
      ],
      "text/plain": [
       "           ┌─────────────────────────────────────────┐\n",
       "q8_0: ─|0>─┤0                                        ├\n",
       "           │  State Preparation(0.70711,0,0,0.70711) │\n",
       "q8_1: ─|0>─┤1                                        ├\n",
       "           └─────────────────────────────────────────┘"
      ]
     },
     "execution_count": 18,
     "metadata": {},
     "output_type": "execute_result"
    }
   ],
   "source": [
    "qc_init.decompose().draw()"
   ]
  },
  {
   "cell_type": "code",
   "execution_count": 19,
   "metadata": {},
   "outputs": [
    {
     "data": {
      "text/html": [
       "<pre style=\"word-wrap: normal;white-space: pre;background: #fff0;line-height: 1.1;font-family: &quot;Courier New&quot;,Courier,monospace\">           ┌──────────────────┐\n",
       "q8_0: ─|0>─┤0                 ├\n",
       "           │  disentangler_dg │\n",
       "q8_1: ─|0>─┤1                 ├\n",
       "           └──────────────────┘</pre>"
      ],
      "text/plain": [
       "           ┌──────────────────┐\n",
       "q8_0: ─|0>─┤0                 ├\n",
       "           │  disentangler_dg │\n",
       "q8_1: ─|0>─┤1                 ├\n",
       "           └──────────────────┘"
      ]
     },
     "execution_count": 19,
     "metadata": {},
     "output_type": "execute_result"
    }
   ],
   "source": [
    "qc_init.decompose().decompose().draw()"
   ]
  },
  {
   "cell_type": "code",
   "execution_count": 21,
   "metadata": {},
   "outputs": [
    {
     "data": {
      "text/html": [
       "<pre style=\"word-wrap: normal;white-space: pre;background: #fff0;line-height: 1.1;font-family: &quot;Courier New&quot;,Courier,monospace\">     ┌────────────────┐\n",
       "q_0: ┤0               ├\n",
       "     │  Initialize(2) │\n",
       "q_1: ┤1               ├\n",
       "     └────────────────┘</pre>"
      ],
      "text/plain": [
       "     ┌────────────────┐\n",
       "q_0: ┤0               ├\n",
       "     │  Initialize(2) │\n",
       "q_1: ┤1               ├\n",
       "     └────────────────┘"
      ]
     },
     "execution_count": 21,
     "metadata": {},
     "output_type": "execute_result"
    }
   ],
   "source": [
    "qc_init2 = QuantumCircuit(2)\n",
    "\n",
    "qc_init2.initialize(2)\n",
    "\n",
    "qc_init2.draw()"
   ]
  },
  {
   "cell_type": "markdown",
   "metadata": {},
   "source": [
    "### StatePreparation Class Implementation"
   ]
  },
  {
   "cell_type": "code",
   "execution_count": 53,
   "metadata": {},
   "outputs": [
    {
     "data": {
      "text/html": [
       "<pre style=\"word-wrap: normal;white-space: pre;background: #fff0;line-height: 1.1;font-family: &quot;Courier New&quot;,Courier,monospace\">     ┌────────────────────────────────┐\n",
       "q_0: ┤0                               ├\n",
       "     │  my state(0.70711,0,0,0.70711) │\n",
       "q_1: ┤1                               ├\n",
       "     └────────────────────────────────┘</pre>"
      ],
      "text/plain": [
       "     ┌────────────────────────────────┐\n",
       "q_0: ┤0                               ├\n",
       "     │  my state(0.70711,0,0,0.70711) │\n",
       "q_1: ┤1                               ├\n",
       "     └────────────────────────────────┘"
      ]
     },
     "execution_count": 53,
     "metadata": {},
     "output_type": "execute_result"
    }
   ],
   "source": [
    "circ = QuantumCircuit(2)\n",
    "\n",
    "# int param\n",
    "# my_state = StatePreparation(2, label=\"my state\")\n",
    "\n",
    "# string param\n",
    "# my_state = StatePreparation('11', label=\"my state\")\n",
    "\n",
    "# statevector param\n",
    "# my_state = StatePreparation([1 / math.sqrt(2), 0, 0, 1 / math.sqrt(2)], label=\"my state\")\n",
    "\n",
    "circ.append(my_state, [0,1])\n",
    "\n",
    "circ.draw()"
   ]
  },
  {
   "cell_type": "code",
   "execution_count": 54,
   "metadata": {},
   "outputs": [
    {
     "data": {
      "text/html": [
       "<pre style=\"word-wrap: normal;white-space: pre;background: #fff0;line-height: 1.1;font-family: &quot;Courier New&quot;,Courier,monospace\">     ┌──────────────────┐\n",
       "q_0: ┤0                 ├\n",
       "     │  disentangler_dg │\n",
       "q_1: ┤1                 ├\n",
       "     └──────────────────┘</pre>"
      ],
      "text/plain": [
       "     ┌──────────────────┐\n",
       "q_0: ┤0                 ├\n",
       "     │  disentangler_dg │\n",
       "q_1: ┤1                 ├\n",
       "     └──────────────────┘"
      ]
     },
     "execution_count": 54,
     "metadata": {},
     "output_type": "execute_result"
    }
   ],
   "source": [
    "circ.decompose().draw()"
   ]
  },
  {
   "cell_type": "markdown",
   "metadata": {},
   "source": [
    "### StatePreparation inverse"
   ]
  },
  {
   "cell_type": "code",
   "execution_count": 55,
   "metadata": {},
   "outputs": [
    {
     "data": {
      "text/html": [
       "<pre style=\"word-wrap: normal;white-space: pre;background: #fff0;line-height: 1.1;font-family: &quot;Courier New&quot;,Courier,monospace\">     ┌────────────────────────────────┐┌───────────────────────────────────┐\n",
       "q_0: ┤0                               ├┤0                                  ├\n",
       "     │  my state(0.70711,0,0,0.70711) ││  my state Dg(0.70711,0,0,0.70711) │\n",
       "q_1: ┤1                               ├┤1                                  ├\n",
       "     └────────────────────────────────┘└───────────────────────────────────┘</pre>"
      ],
      "text/plain": [
       "     ┌────────────────────────────────┐┌───────────────────────────────────┐\n",
       "q_0: ┤0                               ├┤0                                  ├\n",
       "     │  my state(0.70711,0,0,0.70711) ││  my state Dg(0.70711,0,0,0.70711) │\n",
       "q_1: ┤1                               ├┤1                                  ├\n",
       "     └────────────────────────────────┘└───────────────────────────────────┘"
      ]
     },
     "execution_count": 55,
     "metadata": {},
     "output_type": "execute_result"
    }
   ],
   "source": [
    "circ.append(my_state.inverse(), [0,1])\n",
    "circ.draw()"
   ]
  },
  {
   "cell_type": "code",
   "execution_count": 56,
   "metadata": {},
   "outputs": [
    {
     "data": {
      "text/html": [
       "<pre style=\"word-wrap: normal;white-space: pre;background: #fff0;line-height: 1.1;font-family: &quot;Courier New&quot;,Courier,monospace\">     ┌──────────────────┐┌───────────────┐\n",
       "q_0: ┤0                 ├┤0              ├\n",
       "     │  disentangler_dg ││  disentangler │\n",
       "q_1: ┤1                 ├┤1              ├\n",
       "     └──────────────────┘└───────────────┘</pre>"
      ],
      "text/plain": [
       "     ┌──────────────────┐┌───────────────┐\n",
       "q_0: ┤0                 ├┤0              ├\n",
       "     │  disentangler_dg ││  disentangler │\n",
       "q_1: ┤1                 ├┤1              ├\n",
       "     └──────────────────┘└───────────────┘"
      ]
     },
     "execution_count": 56,
     "metadata": {},
     "output_type": "execute_result"
    }
   ],
   "source": [
    "circ.decompose().draw()"
   ]
  },
  {
   "cell_type": "markdown",
   "metadata": {},
   "source": [
    "### StatePreparation Control"
   ]
  },
  {
   "cell_type": "code",
   "execution_count": 72,
   "metadata": {},
   "outputs": [
    {
     "data": {
      "text/html": [
       "<pre style=\"word-wrap: normal;white-space: pre;background: #fff0;line-height: 1.1;font-family: &quot;Courier New&quot;,Courier,monospace\">                                \n",
       "q_0: ─────────────■─────────────\n",
       "     ┌────────────┴────────────┐\n",
       "q_1: ┤0                        ├\n",
       "     │  State Preparation(1,1) │\n",
       "q_2: ┤1                        ├\n",
       "     └─────────────────────────┘</pre>"
      ],
      "text/plain": [
       "                                \n",
       "q_0: ─────────────■─────────────\n",
       "     ┌────────────┴────────────┐\n",
       "q_1: ┤0                        ├\n",
       "     │  State Preparation(1,1) │\n",
       "q_2: ┤1                        ├\n",
       "     └─────────────────────────┘"
      ]
     },
     "execution_count": 72,
     "metadata": {},
     "output_type": "execute_result"
    }
   ],
   "source": [
    "qc_control = QuantumCircuit(3)\n",
    "\n",
    "stateprep = StatePreparation('11')\n",
    "controlled_stateprep = stateprep.control(1)\n",
    "\n",
    "qc_control.append(controlled_stateprep, [0,1,2])\n",
    "\n",
    "qc_control.draw()"
   ]
  },
  {
   "cell_type": "markdown",
   "metadata": {},
   "source": [
    "### prepare_state() a la initialize()"
   ]
  },
  {
   "cell_type": "code",
   "execution_count": 58,
   "metadata": {},
   "outputs": [
    {
     "data": {
      "text/html": [
       "<pre style=\"word-wrap: normal;white-space: pre;background: #fff0;line-height: 1.1;font-family: &quot;Courier New&quot;,Courier,monospace\">     ┌─────────────────────────────────────┐\n",
       "q_0: ┤0                                    ├\n",
       "     │  my cool state(0.70711,0,0,0.70711) │\n",
       "q_1: ┤1                                    ├\n",
       "     └─────────────────────────────────────┘</pre>"
      ],
      "text/plain": [
       "     ┌─────────────────────────────────────┐\n",
       "q_0: ┤0                                    ├\n",
       "     │  my cool state(0.70711,0,0,0.70711) │\n",
       "q_1: ┤1                                    ├\n",
       "     └─────────────────────────────────────┘"
      ]
     },
     "execution_count": 58,
     "metadata": {},
     "output_type": "execute_result"
    }
   ],
   "source": [
    "qc = QuantumCircuit(2)\n",
    "\n",
    "# int param\n",
    "# qc.prepare_state(2, label=\"my cool state\")\n",
    "\n",
    "# string param\n",
    "# qc.prepare_state('11', label=\"my cool state\")\n",
    "\n",
    "# statevector param\n",
    "qc.prepare_state([1 / math.sqrt(2), 0, 0, 1 / math.sqrt(2)], label=\"my cool state\")\n",
    "\n",
    "qc.draw()"
   ]
  },
  {
   "cell_type": "markdown",
   "metadata": {},
   "source": [
    "## Potential Areas of Further Development\n",
    "\n",
    "- Could allow users to specify synthesis (e.g. could call `Isometry`)\n",
    "- Currently `StatePreparation` assumes starting in |0> state"
   ]
  },
  {
   "cell_type": "code",
   "execution_count": 5,
   "metadata": {},
   "outputs": [
    {
     "ename": "TypeError",
     "evalue": "prepare_state() got an unexpected keyword argument 'label'",
     "output_type": "error",
     "traceback": [
      "\u001b[0;31m---------------------------------------------------------------------------\u001b[0m",
      "\u001b[0;31mTypeError\u001b[0m                                 Traceback (most recent call last)",
      "\u001b[0;32m<ipython-input-5-6d502af4d110>\u001b[0m in \u001b[0;36m<module>\u001b[0;34m\u001b[0m\n\u001b[1;32m      1\u001b[0m \u001b[0mqc\u001b[0m \u001b[0;34m=\u001b[0m \u001b[0mQuantumCircuit\u001b[0m\u001b[0;34m(\u001b[0m\u001b[0;36m2\u001b[0m\u001b[0;34m)\u001b[0m\u001b[0;34m\u001b[0m\u001b[0;34m\u001b[0m\u001b[0m\n\u001b[1;32m      2\u001b[0m \u001b[0;31m# qc.t(0)\u001b[0m\u001b[0;34m\u001b[0m\u001b[0;34m\u001b[0m\u001b[0;34m\u001b[0m\u001b[0m\n\u001b[0;32m----> 3\u001b[0;31m \u001b[0mqc\u001b[0m\u001b[0;34m.\u001b[0m\u001b[0mprepare_state\u001b[0m\u001b[0;34m(\u001b[0m\u001b[0;34m[\u001b[0m\u001b[0;36m0\u001b[0m\u001b[0;34m,\u001b[0m\u001b[0;36m1\u001b[0m\u001b[0;34m,\u001b[0m\u001b[0;36m0\u001b[0m\u001b[0;34m,\u001b[0m\u001b[0;36m0\u001b[0m\u001b[0;34m]\u001b[0m\u001b[0;34m,\u001b[0m \u001b[0mlabel\u001b[0m\u001b[0;34m=\u001b[0m\u001b[0;34m\"my cool state\"\u001b[0m\u001b[0;34m)\u001b[0m\u001b[0;34m\u001b[0m\u001b[0;34m\u001b[0m\u001b[0m\n\u001b[0m\u001b[1;32m      4\u001b[0m \u001b[0mqc\u001b[0m\u001b[0;34m.\u001b[0m\u001b[0mdraw\u001b[0m\u001b[0;34m(\u001b[0m\u001b[0;34m)\u001b[0m\u001b[0;34m\u001b[0m\u001b[0;34m\u001b[0m\u001b[0m\n",
      "\u001b[0;31mTypeError\u001b[0m: prepare_state() got an unexpected keyword argument 'label'"
     ]
    }
   ],
   "source": [
    "qc = QuantumCircuit(2)\n",
    "# qc.t(0)\n",
    "qc.prepare_state([0,1,0,0], label=\"my cool state\")\n",
    "qc.draw()"
   ]
  },
  {
   "cell_type": "code",
   "execution_count": 4,
   "metadata": {},
   "outputs": [
    {
     "data": {
      "text/html": [
       "<pre style=\"word-wrap: normal;white-space: pre;background: #fff0;line-height: 1.1;font-family: &quot;Courier New&quot;,Courier,monospace\">     ┌─────────────────────────────┐\n",
       "q_0: ┤0                            ├\n",
       "     │  State Preparation(0,1,0,0) │\n",
       "q_1: ┤1                            ├\n",
       "     └─────────────────────────────┘</pre>"
      ],
      "text/plain": [
       "     ┌─────────────────────────────┐\n",
       "q_0: ┤0                            ├\n",
       "     │  State Preparation(0,1,0,0) │\n",
       "q_1: ┤1                            ├\n",
       "     └─────────────────────────────┘"
      ]
     },
     "execution_count": 4,
     "metadata": {},
     "output_type": "execute_result"
    }
   ],
   "source": [
    "qc_dg = qc.inverse().inverse().inverse().inverse()\n",
    "qc_dg.draw()\n",
    "\n",
    "# qc_dg.data"
   ]
  },
  {
   "cell_type": "code",
   "execution_count": 7,
   "metadata": {},
   "outputs": [
    {
     "name": "stdout",
     "output_type": "stream",
     "text": [
      "[(2+0j)]\n"
     ]
    },
    {
     "ename": "QiskitError",
     "evalue": "'Desired statevector length not a positive power of 2.'",
     "output_type": "error",
     "traceback": [
      "\u001b[0;31m---------------------------------------------------------------------------\u001b[0m",
      "\u001b[0;31mQiskitError\u001b[0m                               Traceback (most recent call last)",
      "\u001b[0;32m<ipython-input-7-b80840486acf>\u001b[0m in \u001b[0;36m<module>\u001b[0;34m\u001b[0m\n\u001b[1;32m      1\u001b[0m \u001b[0mmy_gate\u001b[0m \u001b[0;34m=\u001b[0m \u001b[0mStatePreparation\u001b[0m\u001b[0;34m(\u001b[0m\u001b[0;36m2\u001b[0m\u001b[0;34m)\u001b[0m\u001b[0;34m\u001b[0m\u001b[0;34m\u001b[0m\u001b[0m\n\u001b[1;32m      2\u001b[0m \u001b[0mprint\u001b[0m\u001b[0;34m(\u001b[0m\u001b[0mmy_gate\u001b[0m\u001b[0;34m.\u001b[0m\u001b[0mparams\u001b[0m\u001b[0;34m)\u001b[0m\u001b[0;34m\u001b[0m\u001b[0;34m\u001b[0m\u001b[0m\n\u001b[0;32m----> 3\u001b[0;31m \u001b[0mmy_gate_dg\u001b[0m \u001b[0;34m=\u001b[0m \u001b[0mmy_gate\u001b[0m\u001b[0;34m.\u001b[0m\u001b[0minverse\u001b[0m\u001b[0;34m(\u001b[0m\u001b[0;34m)\u001b[0m\u001b[0;34m\u001b[0m\u001b[0;34m\u001b[0m\u001b[0m\n\u001b[0m",
      "\u001b[0;32m~/ibm/quantum/qiskit-terra/qiskit/circuit/library/data_preparation/state_preparation.py\u001b[0m in \u001b[0;36minverse\u001b[0;34m(self)\u001b[0m\n\u001b[1;32m    203\u001b[0m     \u001b[0;32mdef\u001b[0m \u001b[0minverse\u001b[0m\u001b[0;34m(\u001b[0m\u001b[0mself\u001b[0m\u001b[0;34m)\u001b[0m\u001b[0;34m:\u001b[0m\u001b[0;34m\u001b[0m\u001b[0;34m\u001b[0m\u001b[0m\n\u001b[1;32m    204\u001b[0m         \u001b[0;34m\"\"\"Return inverted StatePreparation\"\"\"\u001b[0m\u001b[0;34m\u001b[0m\u001b[0;34m\u001b[0m\u001b[0m\n\u001b[0;32m--> 205\u001b[0;31m         \u001b[0;32mreturn\u001b[0m \u001b[0mStatePreparation\u001b[0m\u001b[0;34m(\u001b[0m\u001b[0mself\u001b[0m\u001b[0;34m.\u001b[0m\u001b[0mparams\u001b[0m\u001b[0;34m,\u001b[0m \u001b[0minverse\u001b[0m\u001b[0;34m=\u001b[0m\u001b[0;32mnot\u001b[0m \u001b[0mself\u001b[0m\u001b[0;34m.\u001b[0m\u001b[0m_inverse\u001b[0m\u001b[0;34m,\u001b[0m \u001b[0mlabel\u001b[0m\u001b[0;34m=\u001b[0m\u001b[0mself\u001b[0m\u001b[0;34m.\u001b[0m\u001b[0m_label\u001b[0m\u001b[0;34m)\u001b[0m\u001b[0;34m\u001b[0m\u001b[0;34m\u001b[0m\u001b[0m\n\u001b[0m\u001b[1;32m    206\u001b[0m \u001b[0;34m\u001b[0m\u001b[0m\n\u001b[1;32m    207\u001b[0m     \u001b[0;32mdef\u001b[0m \u001b[0mbroadcast_arguments\u001b[0m\u001b[0;34m(\u001b[0m\u001b[0mself\u001b[0m\u001b[0;34m,\u001b[0m \u001b[0mqargs\u001b[0m\u001b[0;34m,\u001b[0m \u001b[0mcargs\u001b[0m\u001b[0;34m)\u001b[0m\u001b[0;34m:\u001b[0m\u001b[0;34m\u001b[0m\u001b[0;34m\u001b[0m\u001b[0m\n",
      "\u001b[0;32m~/ibm/quantum/qiskit-terra/qiskit/circuit/library/data_preparation/state_preparation.py\u001b[0m in \u001b[0;36m__init__\u001b[0;34m(self, params, num_qubits, inverse, label)\u001b[0m\n\u001b[1;32m     93\u001b[0m         \u001b[0mself\u001b[0m\u001b[0;34m.\u001b[0m\u001b[0m_from_int\u001b[0m \u001b[0;34m=\u001b[0m \u001b[0misinstance\u001b[0m\u001b[0;34m(\u001b[0m\u001b[0mparams\u001b[0m\u001b[0;34m,\u001b[0m \u001b[0mint\u001b[0m\u001b[0;34m)\u001b[0m\u001b[0;34m\u001b[0m\u001b[0;34m\u001b[0m\u001b[0m\n\u001b[1;32m     94\u001b[0m \u001b[0;34m\u001b[0m\u001b[0m\n\u001b[0;32m---> 95\u001b[0;31m         \u001b[0mnum_qubits\u001b[0m \u001b[0;34m=\u001b[0m \u001b[0mself\u001b[0m\u001b[0;34m.\u001b[0m\u001b[0m_get_num_qubits\u001b[0m\u001b[0;34m(\u001b[0m\u001b[0mnum_qubits\u001b[0m\u001b[0;34m,\u001b[0m \u001b[0mparams\u001b[0m\u001b[0;34m)\u001b[0m\u001b[0;34m\u001b[0m\u001b[0;34m\u001b[0m\u001b[0m\n\u001b[0m\u001b[1;32m     96\u001b[0m \u001b[0;34m\u001b[0m\u001b[0m\n\u001b[1;32m     97\u001b[0m         \u001b[0mparams\u001b[0m \u001b[0;34m=\u001b[0m \u001b[0;34m[\u001b[0m\u001b[0mparams\u001b[0m\u001b[0;34m]\u001b[0m \u001b[0;32mif\u001b[0m \u001b[0misinstance\u001b[0m\u001b[0;34m(\u001b[0m\u001b[0mparams\u001b[0m\u001b[0;34m,\u001b[0m \u001b[0mint\u001b[0m\u001b[0;34m)\u001b[0m \u001b[0;32melse\u001b[0m \u001b[0mparams\u001b[0m\u001b[0;34m\u001b[0m\u001b[0;34m\u001b[0m\u001b[0m\n",
      "\u001b[0;32m~/ibm/quantum/qiskit-terra/qiskit/circuit/library/data_preparation/state_preparation.py\u001b[0m in \u001b[0;36m_get_num_qubits\u001b[0;34m(self, num_qubits, params)\u001b[0m\n\u001b[1;32m    192\u001b[0m             \u001b[0;31m# Check if param is a power of 2\u001b[0m\u001b[0;34m\u001b[0m\u001b[0;34m\u001b[0m\u001b[0;34m\u001b[0m\u001b[0m\n\u001b[1;32m    193\u001b[0m             \u001b[0;32mif\u001b[0m \u001b[0mnum_qubits\u001b[0m \u001b[0;34m==\u001b[0m \u001b[0;36m0\u001b[0m \u001b[0;32mor\u001b[0m \u001b[0;32mnot\u001b[0m \u001b[0mnum_qubits\u001b[0m\u001b[0;34m.\u001b[0m\u001b[0mis_integer\u001b[0m\u001b[0;34m(\u001b[0m\u001b[0;34m)\u001b[0m\u001b[0;34m:\u001b[0m\u001b[0;34m\u001b[0m\u001b[0;34m\u001b[0m\u001b[0m\n\u001b[0;32m--> 194\u001b[0;31m                 \u001b[0;32mraise\u001b[0m \u001b[0mQiskitError\u001b[0m\u001b[0;34m(\u001b[0m\u001b[0;34m\"Desired statevector length not a positive power of 2.\"\u001b[0m\u001b[0;34m)\u001b[0m\u001b[0;34m\u001b[0m\u001b[0;34m\u001b[0m\u001b[0m\n\u001b[0m\u001b[1;32m    195\u001b[0m \u001b[0;34m\u001b[0m\u001b[0m\n\u001b[1;32m    196\u001b[0m             \u001b[0;31m# Check if probabilities (amplitudes squared) sum to 1\u001b[0m\u001b[0;34m\u001b[0m\u001b[0;34m\u001b[0m\u001b[0;34m\u001b[0m\u001b[0m\n",
      "\u001b[0;31mQiskitError\u001b[0m: 'Desired statevector length not a positive power of 2.'"
     ]
    }
   ],
   "source": [
    "my_gate = StatePreparation(2)\n",
    "print(my_gate.params)\n",
    "my_gate_dg = my_gate.inverse()"
   ]
  },
  {
   "cell_type": "code",
   "execution_count": 5,
   "metadata": {},
   "outputs": [
    {
     "data": {
      "text/plain": [
       "<bound method TGate.inverse of Instruction(name='t', num_qubits=1, num_clbits=0, params=[])>"
      ]
     },
     "execution_count": 5,
     "metadata": {},
     "output_type": "execute_result"
    }
   ],
   "source": [
    "g = TGate()\n",
    "dg = g.inverse\n",
    "dg"
   ]
  },
  {
   "cell_type": "code",
   "execution_count": 7,
   "metadata": {},
   "outputs": [
    {
     "ename": "TypeError",
     "evalue": "issubclass() arg 1 must be a class",
     "output_type": "error",
     "traceback": [
      "\u001b[0;31m---------------------------------------------------------------------------\u001b[0m",
      "\u001b[0;31mTypeError\u001b[0m                                 Traceback (most recent call last)",
      "\u001b[0;32m<ipython-input-7-9159cd647e32>\u001b[0m in \u001b[0;36m<module>\u001b[0;34m\u001b[0m\n\u001b[1;32m      1\u001b[0m \u001b[0mcirc_dg\u001b[0m \u001b[0;34m=\u001b[0m \u001b[0mQuantumCircuit\u001b[0m\u001b[0;34m(\u001b[0m\u001b[0;36m2\u001b[0m\u001b[0;34m)\u001b[0m\u001b[0;34m\u001b[0m\u001b[0;34m\u001b[0m\u001b[0m\n\u001b[0;32m----> 2\u001b[0;31m \u001b[0mcirc_dg\u001b[0m\u001b[0;34m.\u001b[0m\u001b[0mappend\u001b[0m\u001b[0;34m(\u001b[0m\u001b[0mmy_gate_dg\u001b[0m\u001b[0;34m,\u001b[0m \u001b[0;34m[\u001b[0m\u001b[0;36m0\u001b[0m\u001b[0;34m,\u001b[0m\u001b[0;36m1\u001b[0m\u001b[0;34m]\u001b[0m\u001b[0;34m)\u001b[0m\u001b[0;34m\u001b[0m\u001b[0;34m\u001b[0m\u001b[0m\n\u001b[0m\u001b[1;32m      3\u001b[0m \u001b[0mcirc_dg\u001b[0m\u001b[0;34m.\u001b[0m\u001b[0mdraw\u001b[0m\u001b[0;34m(\u001b[0m\u001b[0;34m)\u001b[0m\u001b[0;34m\u001b[0m\u001b[0;34m\u001b[0m\u001b[0m\n",
      "\u001b[0;32m~/ibm/quantum/qiskit-terra/qiskit/circuit/quantumcircuit.py\u001b[0m in \u001b[0;36mappend\u001b[0;34m(self, instruction, qargs, cargs)\u001b[0m\n\u001b[1;32m   1182\u001b[0m         \u001b[0;31m# Convert input to instruction\u001b[0m\u001b[0;34m\u001b[0m\u001b[0;34m\u001b[0m\u001b[0;34m\u001b[0m\u001b[0m\n\u001b[1;32m   1183\u001b[0m         \u001b[0;32mif\u001b[0m \u001b[0;32mnot\u001b[0m \u001b[0misinstance\u001b[0m\u001b[0;34m(\u001b[0m\u001b[0minstruction\u001b[0m\u001b[0;34m,\u001b[0m \u001b[0mInstruction\u001b[0m\u001b[0;34m)\u001b[0m \u001b[0;32mand\u001b[0m \u001b[0;32mnot\u001b[0m \u001b[0mhasattr\u001b[0m\u001b[0;34m(\u001b[0m\u001b[0minstruction\u001b[0m\u001b[0;34m,\u001b[0m \u001b[0;34m\"to_instruction\"\u001b[0m\u001b[0;34m)\u001b[0m\u001b[0;34m:\u001b[0m\u001b[0;34m\u001b[0m\u001b[0;34m\u001b[0m\u001b[0m\n\u001b[0;32m-> 1184\u001b[0;31m             \u001b[0;32mif\u001b[0m \u001b[0missubclass\u001b[0m\u001b[0;34m(\u001b[0m\u001b[0minstruction\u001b[0m\u001b[0;34m,\u001b[0m \u001b[0mInstruction\u001b[0m\u001b[0;34m)\u001b[0m\u001b[0;34m:\u001b[0m\u001b[0;34m\u001b[0m\u001b[0;34m\u001b[0m\u001b[0m\n\u001b[0m\u001b[1;32m   1185\u001b[0m                 raise CircuitError(\n\u001b[1;32m   1186\u001b[0m                     \u001b[0;34m\"Object is a subclass of Instruction, please add () to \"\u001b[0m\u001b[0;34m\u001b[0m\u001b[0;34m\u001b[0m\u001b[0m\n",
      "\u001b[0;31mTypeError\u001b[0m: issubclass() arg 1 must be a class"
     ]
    }
   ],
   "source": [
    "circ_dg = QuantumCircuit(2)\n",
    "circ_dg.append(my_gate_dg, [0,1])\n",
    "circ_dg.draw()"
   ]
  },
  {
   "cell_type": "markdown",
   "metadata": {},
   "source": [
    "### test mutating params"
   ]
  },
  {
   "cell_type": "code",
   "execution_count": 9,
   "metadata": {},
   "outputs": [
    {
     "data": {
      "text/html": [
       "<pre style=\"word-wrap: normal;white-space: pre;background: #fff0;line-height: 1.1;font-family: &quot;Courier New&quot;,Courier,monospace\">           ┌─────────────────────────┐\n",
       "q0_0: ─|0>─┤0                        ├\n",
       "           │  State Preparation(1,1) │\n",
       "q0_1: ─|0>─┤1                        ├\n",
       "           └─────────────────────────┘</pre>"
      ],
      "text/plain": [
       "           ┌─────────────────────────┐\n",
       "q0_0: ─|0>─┤0                        ├\n",
       "           │  State Preparation(1,1) │\n",
       "q0_1: ─|0>─┤1                        ├\n",
       "           └─────────────────────────┘"
      ]
     },
     "execution_count": 9,
     "metadata": {},
     "output_type": "execute_result"
    }
   ],
   "source": [
    "qr = QuantumRegister(2)\n",
    "qc = QuantumCircuit(qr)\n",
    "qc.append(init, qr)\n",
    "qc.decompose().draw()"
   ]
  },
  {
   "cell_type": "code",
   "execution_count": 10,
   "metadata": {},
   "outputs": [
    {
     "name": "stdout",
     "output_type": "stream",
     "text": [
      "['0', '0']\n",
      "Instruction(name='initialize', num_qubits=2, num_clbits=0, params=['0', '0'])\n"
     ]
    }
   ],
   "source": [
    "init.params = '00'\n",
    "print(init.params)\n",
    "print(init)"
   ]
  },
  {
   "cell_type": "code",
   "execution_count": 12,
   "metadata": {},
   "outputs": [
    {
     "name": "stdout",
     "output_type": "stream",
     "text": [
      "['1', '1']\n"
     ]
    }
   ],
   "source": [
    "stateprep_init = StatePreparation('11')\n",
    "print(stateprep_init.params)"
   ]
  },
  {
   "cell_type": "code",
   "execution_count": 13,
   "metadata": {},
   "outputs": [
    {
     "data": {
      "text/html": [
       "<pre style=\"word-wrap: normal;white-space: pre;background: #fff0;line-height: 1.1;font-family: &quot;Courier New&quot;,Courier,monospace\">      ┌─────────────────────────┐\n",
       "q2_0: ┤0                        ├\n",
       "      │  State Preparation(1,1) │\n",
       "q2_1: ┤1                        ├\n",
       "      └─────────────────────────┘</pre>"
      ],
      "text/plain": [
       "      ┌─────────────────────────┐\n",
       "q2_0: ┤0                        ├\n",
       "      │  State Preparation(1,1) │\n",
       "q2_1: ┤1                        ├\n",
       "      └─────────────────────────┘"
      ]
     },
     "execution_count": 13,
     "metadata": {},
     "output_type": "execute_result"
    }
   ],
   "source": [
    "qr = QuantumRegister(2)\n",
    "qc = QuantumCircuit(qr)\n",
    "qc.append(stateprep_init, qr)\n",
    "qc.draw()\n",
    "# qc.decompose().draw()"
   ]
  },
  {
   "cell_type": "code",
   "execution_count": 15,
   "metadata": {},
   "outputs": [
    {
     "data": {
      "text/plain": [
       "['1', '0']"
      ]
     },
     "execution_count": 15,
     "metadata": {},
     "output_type": "execute_result"
    }
   ],
   "source": [
    "stateprep_init.params = '10'\n",
    "stateprep_init.params"
   ]
  },
  {
   "cell_type": "code",
   "execution_count": 16,
   "metadata": {},
   "outputs": [
    {
     "data": {
      "text/html": [
       "<pre style=\"word-wrap: normal;white-space: pre;background: #fff0;line-height: 1.1;font-family: &quot;Courier New&quot;,Courier,monospace\">      ┌─────────────────────────┐\n",
       "q6_0: ┤0                        ├\n",
       "      │  State_preparation(1,0) │\n",
       "q6_1: ┤1                        ├\n",
       "      └─────────────────────────┘</pre>"
      ],
      "text/plain": [
       "      ┌─────────────────────────┐\n",
       "q6_0: ┤0                        ├\n",
       "      │  State_preparation(1,0) │\n",
       "q6_1: ┤1                        ├\n",
       "      └─────────────────────────┘"
      ]
     },
     "execution_count": 16,
     "metadata": {},
     "output_type": "execute_result"
    }
   ],
   "source": [
    "\n",
    "qr = QuantumRegister(2)\n",
    "qc = QuantumCircuit(qr)\n",
    "qc.append(stateprep_init, qr)\n",
    "qc.draw()\n",
    "# qc.decompose().draw()"
   ]
  },
  {
   "cell_type": "code",
   "execution_count": 40,
   "metadata": {},
   "outputs": [
    {
     "ename": "QiskitError",
     "evalue": "'StatePreparation parameter vector has 4 elements, therefore expects 2 qubits. However, 3 were provided.'",
     "output_type": "error",
     "traceback": [
      "\u001b[0;31m---------------------------------------------------------------------------\u001b[0m",
      "\u001b[0;31mQiskitError\u001b[0m                               Traceback (most recent call last)",
      "\u001b[0;32m<ipython-input-40-9651624ee8dc>\u001b[0m in \u001b[0;36m<module>\u001b[0;34m\u001b[0m\n\u001b[1;32m      1\u001b[0m \u001b[0;31m# qr = QuantumRegister(2)\u001b[0m\u001b[0;34m\u001b[0m\u001b[0;34m\u001b[0m\u001b[0;34m\u001b[0m\u001b[0m\n\u001b[1;32m      2\u001b[0m \u001b[0mqc\u001b[0m \u001b[0;34m=\u001b[0m \u001b[0mQuantumCircuit\u001b[0m\u001b[0;34m(\u001b[0m\u001b[0;36m3\u001b[0m\u001b[0;34m)\u001b[0m\u001b[0;34m\u001b[0m\u001b[0;34m\u001b[0m\u001b[0m\n\u001b[0;32m----> 3\u001b[0;31m \u001b[0mqc\u001b[0m\u001b[0;34m.\u001b[0m\u001b[0mprepare_state\u001b[0m\u001b[0;34m(\u001b[0m\u001b[0;34m'11'\u001b[0m\u001b[0;34m)\u001b[0m\u001b[0;34m\u001b[0m\u001b[0;34m\u001b[0m\u001b[0m\n\u001b[0m\u001b[1;32m      4\u001b[0m \u001b[0mqc\u001b[0m\u001b[0;34m.\u001b[0m\u001b[0mdraw\u001b[0m\u001b[0;34m(\u001b[0m\u001b[0;34m)\u001b[0m\u001b[0;34m\u001b[0m\u001b[0;34m\u001b[0m\u001b[0m\n\u001b[1;32m      5\u001b[0m \u001b[0mqc\u001b[0m\u001b[0;34m.\u001b[0m\u001b[0mdecompose\u001b[0m\u001b[0;34m(\u001b[0m\u001b[0;34m)\u001b[0m\u001b[0;34m.\u001b[0m\u001b[0mdraw\u001b[0m\u001b[0;34m(\u001b[0m\u001b[0;34m)\u001b[0m\u001b[0;34m\u001b[0m\u001b[0;34m\u001b[0m\u001b[0m\n",
      "\u001b[0;32m~/ibm/quantum/qiskit-terra/qiskit/extensions/quantum_initializer/state_preparation.py\u001b[0m in \u001b[0;36mprepare_state\u001b[0;34m(self, state, qubits)\u001b[0m\n\u001b[1;32m    473\u001b[0m     \u001b[0mnum_qubits\u001b[0m \u001b[0;34m=\u001b[0m \u001b[0;32mNone\u001b[0m \u001b[0;32mif\u001b[0m \u001b[0;32mnot\u001b[0m \u001b[0misinstance\u001b[0m\u001b[0;34m(\u001b[0m\u001b[0mstate\u001b[0m\u001b[0;34m,\u001b[0m \u001b[0mint\u001b[0m\u001b[0;34m)\u001b[0m \u001b[0;32melse\u001b[0m \u001b[0mlen\u001b[0m\u001b[0;34m(\u001b[0m\u001b[0mqubits\u001b[0m\u001b[0;34m)\u001b[0m\u001b[0;34m\u001b[0m\u001b[0;34m\u001b[0m\u001b[0m\n\u001b[1;32m    474\u001b[0m     \u001b[0;32mreturn\u001b[0m \u001b[0mself\u001b[0m\u001b[0;34m.\u001b[0m\u001b[0mappend\u001b[0m\u001b[0;34m(\u001b[0m\u001b[0mStatePreparation\u001b[0m\u001b[0;34m(\u001b[0m\u001b[0mstate\u001b[0m\u001b[0;34m,\u001b[0m \u001b[0mnum_qubits\u001b[0m\u001b[0;34m)\u001b[0m\u001b[0;34m,\u001b[0m \u001b[0mqubits\u001b[0m\u001b[0;34m)\u001b[0m\u001b[0;34m\u001b[0m\u001b[0;34m\u001b[0m\u001b[0m\n\u001b[0;32m--> 475\u001b[0;31m \u001b[0;34m\u001b[0m\u001b[0m\n\u001b[0m\u001b[1;32m    476\u001b[0m \u001b[0;34m\u001b[0m\u001b[0m\n\u001b[1;32m    477\u001b[0m \u001b[0mQuantumCircuit\u001b[0m\u001b[0;34m.\u001b[0m\u001b[0mprepare_state\u001b[0m \u001b[0;34m=\u001b[0m \u001b[0mprepare_state\u001b[0m\u001b[0;34m\u001b[0m\u001b[0;34m\u001b[0m\u001b[0m\n",
      "\u001b[0;32m~/ibm/quantum/qiskit-terra/qiskit/circuit/quantumcircuit.py\u001b[0m in \u001b[0;36mappend\u001b[0;34m(self, instruction, qargs, cargs)\u001b[0m\n\u001b[1;32m   1246\u001b[0m             \u001b[0mrequester\u001b[0m \u001b[0;34m=\u001b[0m \u001b[0mself\u001b[0m\u001b[0;34m.\u001b[0m\u001b[0m_resolve_classical_resource\u001b[0m\u001b[0;34m\u001b[0m\u001b[0;34m\u001b[0m\u001b[0m\n\u001b[1;32m   1247\u001b[0m         \u001b[0minstructions\u001b[0m \u001b[0;34m=\u001b[0m \u001b[0mInstructionSet\u001b[0m\u001b[0;34m(\u001b[0m\u001b[0mresource_requester\u001b[0m\u001b[0;34m=\u001b[0m\u001b[0mrequester\u001b[0m\u001b[0;34m)\u001b[0m\u001b[0;34m\u001b[0m\u001b[0;34m\u001b[0m\u001b[0m\n\u001b[0;32m-> 1248\u001b[0;31m         \u001b[0;32mfor\u001b[0m \u001b[0mqarg\u001b[0m\u001b[0;34m,\u001b[0m \u001b[0mcarg\u001b[0m \u001b[0;32min\u001b[0m \u001b[0minstruction\u001b[0m\u001b[0;34m.\u001b[0m\u001b[0mbroadcast_arguments\u001b[0m\u001b[0;34m(\u001b[0m\u001b[0mexpanded_qargs\u001b[0m\u001b[0;34m,\u001b[0m \u001b[0mexpanded_cargs\u001b[0m\u001b[0;34m)\u001b[0m\u001b[0;34m:\u001b[0m\u001b[0;34m\u001b[0m\u001b[0;34m\u001b[0m\u001b[0m\n\u001b[0m\u001b[1;32m   1249\u001b[0m             \u001b[0minstructions\u001b[0m\u001b[0;34m.\u001b[0m\u001b[0madd\u001b[0m\u001b[0;34m(\u001b[0m\u001b[0mappender\u001b[0m\u001b[0;34m(\u001b[0m\u001b[0minstruction\u001b[0m\u001b[0;34m,\u001b[0m \u001b[0mqarg\u001b[0m\u001b[0;34m,\u001b[0m \u001b[0mcarg\u001b[0m\u001b[0;34m)\u001b[0m\u001b[0;34m,\u001b[0m \u001b[0mqarg\u001b[0m\u001b[0;34m,\u001b[0m \u001b[0mcarg\u001b[0m\u001b[0;34m)\u001b[0m\u001b[0;34m\u001b[0m\u001b[0;34m\u001b[0m\u001b[0m\n\u001b[1;32m   1250\u001b[0m         \u001b[0;32mreturn\u001b[0m \u001b[0minstructions\u001b[0m\u001b[0;34m\u001b[0m\u001b[0;34m\u001b[0m\u001b[0m\n",
      "\u001b[0;32m~/ibm/quantum/qiskit-terra/qiskit/extensions/quantum_initializer/state_preparation.py\u001b[0m in \u001b[0;36mbroadcast_arguments\u001b[0;34m(self, qargs, cargs)\u001b[0m\n\u001b[1;32m    185\u001b[0m                 \u001b[0;34m\"StatePreparation parameter vector has %d elements, therefore expects %s \"\u001b[0m\u001b[0;34m\u001b[0m\u001b[0;34m\u001b[0m\u001b[0m\n\u001b[1;32m    186\u001b[0m                 \u001b[0;34m\"qubits. However, %s were provided.\"\u001b[0m\u001b[0;34m\u001b[0m\u001b[0;34m\u001b[0m\u001b[0m\n\u001b[0;32m--> 187\u001b[0;31m                 \u001b[0;34m%\u001b[0m \u001b[0;34m(\u001b[0m\u001b[0;36m2\u001b[0m\u001b[0;34m**\u001b[0m\u001b[0mself\u001b[0m\u001b[0;34m.\u001b[0m\u001b[0mnum_qubits\u001b[0m\u001b[0;34m,\u001b[0m \u001b[0mself\u001b[0m\u001b[0;34m.\u001b[0m\u001b[0mnum_qubits\u001b[0m\u001b[0;34m,\u001b[0m \u001b[0mlen\u001b[0m\u001b[0;34m(\u001b[0m\u001b[0mflat_qargs\u001b[0m\u001b[0;34m)\u001b[0m\u001b[0;34m)\u001b[0m\u001b[0;34m\u001b[0m\u001b[0;34m\u001b[0m\u001b[0m\n\u001b[0m\u001b[1;32m    188\u001b[0m             )\n\u001b[1;32m    189\u001b[0m         \u001b[0;32myield\u001b[0m \u001b[0mflat_qargs\u001b[0m\u001b[0;34m,\u001b[0m \u001b[0;34m[\u001b[0m\u001b[0;34m]\u001b[0m\u001b[0;34m\u001b[0m\u001b[0;34m\u001b[0m\u001b[0m\n",
      "\u001b[0;31mQiskitError\u001b[0m: 'StatePreparation parameter vector has 4 elements, therefore expects 2 qubits. However, 3 were provided.'"
     ]
    }
   ],
   "source": [
    "# qr = QuantumRegister(2)\n",
    "qc = QuantumCircuit(3)\n",
    "qc.prepare_state('11')\n",
    "qc.draw()\n",
    "qc.decompose().draw()"
   ]
  },
  {
   "cell_type": "code",
   "execution_count": 25,
   "metadata": {},
   "outputs": [
    {
     "ename": "CircuitError",
     "evalue": "\"Invalid param type <class 'complex'> for gate initialize_dg.\"",
     "output_type": "error",
     "traceback": [
      "\u001b[0;31m---------------------------------------------------------------------------\u001b[0m",
      "\u001b[0;31mCircuitError\u001b[0m                              Traceback (most recent call last)",
      "\u001b[0;32m<ipython-input-25-bfd012f46336>\u001b[0m in \u001b[0;36m<module>\u001b[0;34m\u001b[0m\n\u001b[1;32m      5\u001b[0m \u001b[0;31m# qc.initialize(2) #BROKEN\u001b[0m\u001b[0;34m\u001b[0m\u001b[0;34m\u001b[0m\u001b[0;34m\u001b[0m\u001b[0m\n\u001b[1;32m      6\u001b[0m \u001b[0mqc\u001b[0m\u001b[0;34m.\u001b[0m\u001b[0minitialize\u001b[0m\u001b[0;34m(\u001b[0m\u001b[0;34m[\u001b[0m\u001b[0;36m0\u001b[0m\u001b[0;34m,\u001b[0m\u001b[0;36m1\u001b[0m\u001b[0;34m/\u001b[0m\u001b[0mnp\u001b[0m\u001b[0;34m.\u001b[0m\u001b[0msqrt\u001b[0m\u001b[0;34m(\u001b[0m\u001b[0;36m2\u001b[0m\u001b[0;34m)\u001b[0m\u001b[0;34m,\u001b[0m\u001b[0;36m1\u001b[0m\u001b[0;34m/\u001b[0m\u001b[0mnp\u001b[0m\u001b[0;34m.\u001b[0m\u001b[0msqrt\u001b[0m\u001b[0;34m(\u001b[0m\u001b[0;36m2\u001b[0m\u001b[0;34m)\u001b[0m\u001b[0;34m,\u001b[0m\u001b[0;36m0\u001b[0m\u001b[0;34m]\u001b[0m\u001b[0;34m,\u001b[0m \u001b[0;34m[\u001b[0m\u001b[0;36m0\u001b[0m\u001b[0;34m,\u001b[0m\u001b[0;36m1\u001b[0m\u001b[0;34m]\u001b[0m\u001b[0;34m)\u001b[0m\u001b[0;34m\u001b[0m\u001b[0;34m\u001b[0m\u001b[0m\n\u001b[0;32m----> 7\u001b[0;31m \u001b[0mqc\u001b[0m\u001b[0;34m.\u001b[0m\u001b[0minverse\u001b[0m\u001b[0;34m(\u001b[0m\u001b[0;34m)\u001b[0m\u001b[0;34m\u001b[0m\u001b[0;34m\u001b[0m\u001b[0m\n\u001b[0m\u001b[1;32m      8\u001b[0m \u001b[0mqc\u001b[0m\u001b[0;34m.\u001b[0m\u001b[0mdraw\u001b[0m\u001b[0;34m(\u001b[0m\u001b[0;34m)\u001b[0m\u001b[0;34m\u001b[0m\u001b[0;34m\u001b[0m\u001b[0m\n\u001b[1;32m      9\u001b[0m \u001b[0;31m# _define never called??\u001b[0m\u001b[0;34m\u001b[0m\u001b[0;34m\u001b[0m\u001b[0;34m\u001b[0m\u001b[0m\n",
      "\u001b[0;32m~/ibm/quantum/qiskit-terra/qiskit/circuit/quantumcircuit.py\u001b[0m in \u001b[0;36minverse\u001b[0;34m(self)\u001b[0m\n\u001b[1;32m    553\u001b[0m \u001b[0;34m\u001b[0m\u001b[0m\n\u001b[1;32m    554\u001b[0m         \u001b[0;32mfor\u001b[0m \u001b[0minst\u001b[0m\u001b[0;34m,\u001b[0m \u001b[0mqargs\u001b[0m\u001b[0;34m,\u001b[0m \u001b[0mcargs\u001b[0m \u001b[0;32min\u001b[0m \u001b[0mreversed\u001b[0m\u001b[0;34m(\u001b[0m\u001b[0mself\u001b[0m\u001b[0;34m.\u001b[0m\u001b[0m_data\u001b[0m\u001b[0;34m)\u001b[0m\u001b[0;34m:\u001b[0m\u001b[0;34m\u001b[0m\u001b[0;34m\u001b[0m\u001b[0m\n\u001b[0;32m--> 555\u001b[0;31m             \u001b[0minverse_circ\u001b[0m\u001b[0;34m.\u001b[0m\u001b[0m_append\u001b[0m\u001b[0;34m(\u001b[0m\u001b[0minst\u001b[0m\u001b[0;34m.\u001b[0m\u001b[0minverse\u001b[0m\u001b[0;34m(\u001b[0m\u001b[0;34m)\u001b[0m\u001b[0;34m,\u001b[0m \u001b[0mqargs\u001b[0m\u001b[0;34m,\u001b[0m \u001b[0mcargs\u001b[0m\u001b[0;34m)\u001b[0m\u001b[0;34m\u001b[0m\u001b[0;34m\u001b[0m\u001b[0m\n\u001b[0m\u001b[1;32m    556\u001b[0m         \u001b[0;32mreturn\u001b[0m \u001b[0minverse_circ\u001b[0m\u001b[0;34m\u001b[0m\u001b[0;34m\u001b[0m\u001b[0m\n\u001b[1;32m    557\u001b[0m \u001b[0;34m\u001b[0m\u001b[0m\n",
      "\u001b[0;32m~/ibm/quantum/qiskit-terra/qiskit/circuit/instruction.py\u001b[0m in \u001b[0;36minverse\u001b[0;34m(self)\u001b[0m\n\u001b[1;32m    391\u001b[0m \u001b[0;34m\u001b[0m\u001b[0m\n\u001b[1;32m    392\u001b[0m         \u001b[0;32melse\u001b[0m\u001b[0;34m:\u001b[0m\u001b[0;34m\u001b[0m\u001b[0;34m\u001b[0m\u001b[0m\n\u001b[0;32m--> 393\u001b[0;31m             \u001b[0minverse_gate\u001b[0m \u001b[0;34m=\u001b[0m \u001b[0mGate\u001b[0m\u001b[0;34m(\u001b[0m\u001b[0mname\u001b[0m\u001b[0;34m=\u001b[0m\u001b[0mname\u001b[0m\u001b[0;34m,\u001b[0m \u001b[0mnum_qubits\u001b[0m\u001b[0;34m=\u001b[0m\u001b[0mself\u001b[0m\u001b[0;34m.\u001b[0m\u001b[0mnum_qubits\u001b[0m\u001b[0;34m,\u001b[0m \u001b[0mparams\u001b[0m\u001b[0;34m=\u001b[0m\u001b[0mself\u001b[0m\u001b[0;34m.\u001b[0m\u001b[0mparams\u001b[0m\u001b[0;34m.\u001b[0m\u001b[0mcopy\u001b[0m\u001b[0;34m(\u001b[0m\u001b[0;34m)\u001b[0m\u001b[0;34m)\u001b[0m\u001b[0;34m\u001b[0m\u001b[0;34m\u001b[0m\u001b[0m\n\u001b[0m\u001b[1;32m    394\u001b[0m \u001b[0;34m\u001b[0m\u001b[0m\n\u001b[1;32m    395\u001b[0m         inverse_gate.definition = QuantumCircuit(\n",
      "\u001b[0;32m~/ibm/quantum/qiskit-terra/qiskit/circuit/gate.py\u001b[0m in \u001b[0;36m__init__\u001b[0;34m(self, name, num_qubits, params, label)\u001b[0m\n\u001b[1;32m     38\u001b[0m         \"\"\"\n\u001b[1;32m     39\u001b[0m         \u001b[0mself\u001b[0m\u001b[0;34m.\u001b[0m\u001b[0mdefinition\u001b[0m \u001b[0;34m=\u001b[0m \u001b[0;32mNone\u001b[0m\u001b[0;34m\u001b[0m\u001b[0;34m\u001b[0m\u001b[0m\n\u001b[0;32m---> 40\u001b[0;31m         \u001b[0msuper\u001b[0m\u001b[0;34m(\u001b[0m\u001b[0;34m)\u001b[0m\u001b[0;34m.\u001b[0m\u001b[0m__init__\u001b[0m\u001b[0;34m(\u001b[0m\u001b[0mname\u001b[0m\u001b[0;34m,\u001b[0m \u001b[0mnum_qubits\u001b[0m\u001b[0;34m,\u001b[0m \u001b[0;36m0\u001b[0m\u001b[0;34m,\u001b[0m \u001b[0mparams\u001b[0m\u001b[0;34m,\u001b[0m \u001b[0mlabel\u001b[0m\u001b[0;34m=\u001b[0m\u001b[0mlabel\u001b[0m\u001b[0;34m)\u001b[0m\u001b[0;34m\u001b[0m\u001b[0;34m\u001b[0m\u001b[0m\n\u001b[0m\u001b[1;32m     41\u001b[0m \u001b[0;34m\u001b[0m\u001b[0m\n\u001b[1;32m     42\u001b[0m     \u001b[0;31m# Set higher priority than Numpy array and matrix classes\u001b[0m\u001b[0;34m\u001b[0m\u001b[0;34m\u001b[0m\u001b[0;34m\u001b[0m\u001b[0m\n",
      "\u001b[0;32m~/ibm/quantum/qiskit-terra/qiskit/circuit/instruction.py\u001b[0m in \u001b[0;36m__init__\u001b[0;34m(self, name, num_qubits, num_clbits, params, duration, unit, label)\u001b[0m\n\u001b[1;32m     98\u001b[0m         \u001b[0mself\u001b[0m\u001b[0;34m.\u001b[0m\u001b[0m_unit\u001b[0m \u001b[0;34m=\u001b[0m \u001b[0munit\u001b[0m\u001b[0;34m\u001b[0m\u001b[0;34m\u001b[0m\u001b[0m\n\u001b[1;32m     99\u001b[0m \u001b[0;34m\u001b[0m\u001b[0m\n\u001b[0;32m--> 100\u001b[0;31m         \u001b[0mself\u001b[0m\u001b[0;34m.\u001b[0m\u001b[0mparams\u001b[0m \u001b[0;34m=\u001b[0m \u001b[0mparams\u001b[0m  \u001b[0;31m# must be at last (other properties may be required for validation)\u001b[0m\u001b[0;34m\u001b[0m\u001b[0;34m\u001b[0m\u001b[0m\n\u001b[0m\u001b[1;32m    101\u001b[0m \u001b[0;34m\u001b[0m\u001b[0m\n\u001b[1;32m    102\u001b[0m     \u001b[0;32mdef\u001b[0m \u001b[0m__eq__\u001b[0m\u001b[0;34m(\u001b[0m\u001b[0mself\u001b[0m\u001b[0;34m,\u001b[0m \u001b[0mother\u001b[0m\u001b[0;34m)\u001b[0m\u001b[0;34m:\u001b[0m\u001b[0;34m\u001b[0m\u001b[0;34m\u001b[0m\u001b[0m\n",
      "\u001b[0;32m~/ibm/quantum/qiskit-terra/qiskit/circuit/instruction.py\u001b[0m in \u001b[0;36mparams\u001b[0;34m(self, parameters)\u001b[0m\n\u001b[1;32m    214\u001b[0m                 \u001b[0mself\u001b[0m\u001b[0;34m.\u001b[0m\u001b[0m_params\u001b[0m\u001b[0;34m.\u001b[0m\u001b[0mappend\u001b[0m\u001b[0;34m(\u001b[0m\u001b[0msingle_param\u001b[0m\u001b[0;34m)\u001b[0m\u001b[0;34m\u001b[0m\u001b[0;34m\u001b[0m\u001b[0m\n\u001b[1;32m    215\u001b[0m             \u001b[0;32melse\u001b[0m\u001b[0;34m:\u001b[0m\u001b[0;34m\u001b[0m\u001b[0;34m\u001b[0m\u001b[0m\n\u001b[0;32m--> 216\u001b[0;31m                 \u001b[0mself\u001b[0m\u001b[0;34m.\u001b[0m\u001b[0m_params\u001b[0m\u001b[0;34m.\u001b[0m\u001b[0mappend\u001b[0m\u001b[0;34m(\u001b[0m\u001b[0mself\u001b[0m\u001b[0;34m.\u001b[0m\u001b[0mvalidate_parameter\u001b[0m\u001b[0;34m(\u001b[0m\u001b[0msingle_param\u001b[0m\u001b[0;34m)\u001b[0m\u001b[0;34m)\u001b[0m\u001b[0;34m\u001b[0m\u001b[0;34m\u001b[0m\u001b[0m\n\u001b[0m\u001b[1;32m    217\u001b[0m \u001b[0;34m\u001b[0m\u001b[0m\n\u001b[1;32m    218\u001b[0m     \u001b[0;32mdef\u001b[0m \u001b[0mvalidate_parameter\u001b[0m\u001b[0;34m(\u001b[0m\u001b[0mself\u001b[0m\u001b[0;34m,\u001b[0m \u001b[0mparameter\u001b[0m\u001b[0;34m)\u001b[0m\u001b[0;34m:\u001b[0m\u001b[0;34m\u001b[0m\u001b[0;34m\u001b[0m\u001b[0m\n",
      "\u001b[0;32m~/ibm/quantum/qiskit-terra/qiskit/circuit/gate.py\u001b[0m in \u001b[0;36mvalidate_parameter\u001b[0;34m(self, parameter)\u001b[0m\n\u001b[1;32m    240\u001b[0m             \u001b[0;32mreturn\u001b[0m \u001b[0mparameter\u001b[0m\u001b[0;34m\u001b[0m\u001b[0;34m\u001b[0m\u001b[0m\n\u001b[1;32m    241\u001b[0m         \u001b[0;32melse\u001b[0m\u001b[0;34m:\u001b[0m\u001b[0;34m\u001b[0m\u001b[0;34m\u001b[0m\u001b[0m\n\u001b[0;32m--> 242\u001b[0;31m             \u001b[0;32mraise\u001b[0m \u001b[0mCircuitError\u001b[0m\u001b[0;34m(\u001b[0m\u001b[0;34mf\"Invalid param type {type(parameter)} for gate {self.name}.\"\u001b[0m\u001b[0;34m)\u001b[0m\u001b[0;34m\u001b[0m\u001b[0;34m\u001b[0m\u001b[0m\n\u001b[0m",
      "\u001b[0;31mCircuitError\u001b[0m: \"Invalid param type <class 'complex'> for gate initialize_dg.\""
     ]
    }
   ],
   "source": [
    "qr = QuantumRegister(2)\n",
    "qr2 = QuantumRegister(1)\n",
    "qc = QuantumCircuit(qr, qr2)\n",
    "# qc.initialize('11')\n",
    "# qc.initialize(2) #BROKEN\n",
    "qc.initialize([0,1/np.sqrt(2),1/np.sqrt(2),0], [0,1])\n",
    "qc.inverse()\n",
    "qc.draw()\n",
    "# _define never called??"
   ]
  },
  {
   "cell_type": "code",
   "execution_count": 10,
   "metadata": {},
   "outputs": [
    {
     "data": {
      "text/plain": [
       "[(Instruction(name='initialize', num_qubits=2, num_clbits=0, params=[0j, (0.7071067811865475+0j), (0.7071067811865475+0j), 0j]), [Qubit(QuantumRegister(2, 'q4'), 0), Qubit(QuantumRegister(2, 'q4'), 1)], [])]"
      ]
     },
     "execution_count": 10,
     "metadata": {},
     "output_type": "execute_result"
    }
   ],
   "source": [
    "qc.data"
   ]
  },
  {
   "cell_type": "code",
   "execution_count": 11,
   "metadata": {},
   "outputs": [
    {
     "ename": "TypeError",
     "evalue": "'property' object is not callable",
     "output_type": "error",
     "traceback": [
      "\u001b[0;31m---------------------------------------------------------------------------\u001b[0m",
      "\u001b[0;31mTypeError\u001b[0m                                 Traceback (most recent call last)",
      "\u001b[0;32m<ipython-input-11-2669843fc8c5>\u001b[0m in \u001b[0;36m<module>\u001b[0;34m\u001b[0m\n\u001b[0;32m----> 1\u001b[0;31m \u001b[0mInitialize\u001b[0m\u001b[0;34m.\u001b[0m\u001b[0mparams\u001b[0m\u001b[0;34m(\u001b[0m\u001b[0;34m'01'\u001b[0m\u001b[0;34m)\u001b[0m\u001b[0;34m\u001b[0m\u001b[0;34m\u001b[0m\u001b[0m\n\u001b[0m",
      "\u001b[0;31mTypeError\u001b[0m: 'property' object is not callable"
     ]
    }
   ],
   "source": [
    "Initialize.params('01')"
   ]
  },
  {
   "cell_type": "code",
   "execution_count": 12,
   "metadata": {},
   "outputs": [
    {
     "data": {
      "text/html": [
       "<pre style=\"word-wrap: normal;white-space: pre;background: #fff0;line-height: 1.1;font-family: &quot;Courier New&quot;,Courier,monospace\">           ┌─────────────────────────────────────────┐\n",
       "q4_0: ─|0>─┤0                                        ├\n",
       "           │  State_preparation(0,0.70711,0.70711,0) │\n",
       "q4_1: ─|0>─┤1                                        ├\n",
       "           └─────────────────────────────────────────┘\n",
       "  q5: ────────────────────────────────────────────────\n",
       "                                                      </pre>"
      ],
      "text/plain": [
       "           ┌─────────────────────────────────────────┐\n",
       "q4_0: ─|0>─┤0                                        ├\n",
       "           │  State_preparation(0,0.70711,0.70711,0) │\n",
       "q4_1: ─|0>─┤1                                        ├\n",
       "           └─────────────────────────────────────────┘\n",
       "  q5: ────────────────────────────────────────────────\n",
       "                                                      "
      ]
     },
     "execution_count": 12,
     "metadata": {},
     "output_type": "execute_result"
    }
   ],
   "source": [
    "dc = qc.decompose()\n",
    "dc.draw()"
   ]
  },
  {
   "cell_type": "code",
   "execution_count": 13,
   "metadata": {},
   "outputs": [
    {
     "data": {
      "text/plain": [
       "[(Instruction(name='reset', num_qubits=1, num_clbits=0, params=[]), [Qubit(QuantumRegister(2, 'q4'), 0)], []), (Instruction(name='reset', num_qubits=1, num_clbits=0, params=[]), [Qubit(QuantumRegister(2, 'q4'), 1)], []), (Instruction(name='state_preparation', num_qubits=2, num_clbits=0, params=[0j, (0.7071067811865475+0j), (0.7071067811865475+0j), 0j]), [Qubit(QuantumRegister(2, 'q4'), 0), Qubit(QuantumRegister(2, 'q4'), 1)], [])]"
      ]
     },
     "execution_count": 13,
     "metadata": {},
     "output_type": "execute_result"
    }
   ],
   "source": [
    "dc.data"
   ]
  },
  {
   "cell_type": "code",
   "execution_count": 27,
   "metadata": {},
   "outputs": [
    {
     "data": {
      "text/html": [
       "<pre style=\"word-wrap: normal;white-space: pre;background: #fff0;line-height: 1.1;font-family: &quot;Courier New&quot;,Courier,monospace\">     ┌───┐┌─────────────────────────┐\n",
       "q_0: ┤ H ├┤0                        ├\n",
       "     └───┘│  State_preparation(0,1) │\n",
       "q_1: ─────┤1                        ├\n",
       "          └─────────────────────────┘</pre>"
      ],
      "text/plain": [
       "     ┌───┐┌─────────────────────────┐\n",
       "q_0: ┤ H ├┤0                        ├\n",
       "     └───┘│  State_preparation(0,1) │\n",
       "q_1: ─────┤1                        ├\n",
       "          └─────────────────────────┘"
      ]
     },
     "execution_count": 27,
     "metadata": {},
     "output_type": "execute_result"
    }
   ],
   "source": [
    "circuit = QuantumCircuit(2)\n",
    "circuit.prepare_state('01', circuit.qubits)\n",
    "# qc.inverse()\n",
    "circuit.draw()"
   ]
  },
  {
   "cell_type": "code",
   "execution_count": 9,
   "metadata": {},
   "outputs": [
    {
     "data": {
      "text/html": [
       "<pre style=\"word-wrap: normal;white-space: pre;background: #fff0;line-height: 1.1;font-family: &quot;Courier New&quot;,Courier,monospace\">     ┌───┐┌─────────────────────────────────────────┐\n",
       "q_0: ┤ H ├┤0                                        ├\n",
       "     └───┘│  State Preparation(0,0.70711,0.70711,0) │\n",
       "q_1: ─────┤1                                        ├\n",
       "          └─────────────────────────────────────────┘</pre>"
      ],
      "text/plain": [
       "     ┌───┐┌─────────────────────────────────────────┐\n",
       "q_0: ┤ H ├┤0                                        ├\n",
       "     └───┘│  State Preparation(0,0.70711,0.70711,0) │\n",
       "q_1: ─────┤1                                        ├\n",
       "          └─────────────────────────────────────────┘"
      ]
     },
     "execution_count": 9,
     "metadata": {},
     "output_type": "execute_result"
    }
   ],
   "source": [
    "qc_state = QuantumCircuit(2)\n",
    "qc_state.h(0)\n",
    "# qc_state.prepare_state('10')\n",
    "# qc_state.prepare_state(2) #BROKEN\n",
    "qc_state.prepare_state([0,1/np.sqrt(2),1/np.sqrt(2),0])\n",
    "# qc_state.prepare_state([0,1,0,0])\n",
    "qc_state.inverse()\n",
    "qc_state.draw()"
   ]
  },
  {
   "cell_type": "code",
   "execution_count": 31,
   "metadata": {},
   "outputs": [
    {
     "name": "stdout",
     "output_type": "stream",
     "text": [
      "     ┌─────────┐┌──────────────────┐\n",
      "q_0: ┤ U2(0,π) ├┤0                 ├\n",
      "     └─────────┘│  disentangler_dg │\n",
      "q_1: ───────────┤1                 ├\n",
      "                └──────────────────┘\n"
     ]
    }
   ],
   "source": [
    "print(qc_state.decompose())"
   ]
  },
  {
   "cell_type": "code",
   "execution_count": 17,
   "metadata": {},
   "outputs": [
    {
     "data": {
      "text/plain": [
       "[(Instruction(name='state_preparation', num_qubits=2, num_clbits=0, params=['1', '1']), [Qubit(QuantumRegister(2, 'q'), 0), Qubit(QuantumRegister(2, 'q'), 1)], [])]"
      ]
     },
     "execution_count": 17,
     "metadata": {},
     "output_type": "execute_result"
    }
   ],
   "source": [
    "qc_state.data"
   ]
  },
  {
   "cell_type": "code",
   "execution_count": 18,
   "metadata": {},
   "outputs": [
    {
     "data": {
      "text/html": [
       "<pre style=\"word-wrap: normal;white-space: pre;background: #fff0;line-height: 1.1;font-family: &quot;Courier New&quot;,Courier,monospace\">global phase: 0.5\n",
       "      ┌───┐ ░      \n",
       "q6_0: ┤ H ├─░──────\n",
       "      └───┘ ░ ┌───┐\n",
       "q6_1: ──────░─┤ T ├\n",
       "            ░ └───┘</pre>"
      ],
      "text/plain": [
       "global phase: 0.5\n",
       "      ┌───┐ ░      \n",
       "q6_0: ┤ H ├─░──────\n",
       "      └───┘ ░ ┌───┐\n",
       "q6_1: ──────░─┤ T ├\n",
       "            ░ └───┘"
      ]
     },
     "execution_count": 18,
     "metadata": {},
     "output_type": "execute_result"
    }
   ],
   "source": [
    "qr = QuantumRegister(2)\n",
    "qc = QuantumCircuit(qr, global_phase=0.5)\n",
    "qc.h(0)\n",
    "qc.barrier(qr)\n",
    "qc.t(1)\n",
    "# qc.inverse()\n",
    "qc.draw()\n",
    "\n",
    "# expected = QuantumCircuit(qr)\n",
    "# expected.tdg(1)\n",
    "# expected.barrier(qr)\n",
    "# expected.h(0)\n",
    "# expected.global_phase = -0.5\n",
    "# self.assertEqual(qc.inverse(), expected)"
   ]
  },
  {
   "cell_type": "code",
   "execution_count": null,
   "metadata": {},
   "outputs": [],
   "source": []
  }
 ],
 "metadata": {
  "kernelspec": {
   "display_name": "Python 3",
   "language": "python",
   "name": "python3"
  },
  "language_info": {
   "codemirror_mode": {
    "name": "ipython",
    "version": 3
   },
   "file_extension": ".py",
   "mimetype": "text/x-python",
   "name": "python",
   "nbconvert_exporter": "python",
   "pygments_lexer": "ipython3",
   "version": "3.9.0"
  }
 },
 "nbformat": 4,
 "nbformat_minor": 4
}
