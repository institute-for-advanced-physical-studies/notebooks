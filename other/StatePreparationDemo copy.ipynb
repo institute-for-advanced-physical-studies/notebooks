{
 "cells": [
  {
   "cell_type": "markdown",
   "metadata": {},
   "source": [
    "# #6246 Initialize should be composed of Resets + StatePreparation"
   ]
  },
  {
   "cell_type": "markdown",
   "metadata": {},
   "source": [
    "### Motivation\n",
    "\n",
    "- Existing `Initialize` class adds a reset followed by some state preparation functionality (differs for int, string, statevector etc.)\n",
    "- Users want to be able to prepare state without automatically adding a reset, use more `Gate` functions (`Initialize` is an Instruction, can't inverse, add controls etc.)\n",
    "- Original GitHub issue:https://github.com/Qiskit/qiskit-terra/issues/6246\n",
    "- Stack Exchange: https://quantumcomputing.stackexchange.com/questions/24535/is-it-possible-to-create-a-controlled-initialize-instruction-in-qiskit"
   ]
  },
  {
   "cell_type": "markdown",
   "metadata": {},
   "source": [
    "### New StatePreparation Class\n",
    "\n",
    "TL;DR \n",
    "\n",
    "a `Gate` that does everything `Initialize` used to do, without adding a reset\n",
    "\n",
    "`Initialize` now adds a reset calls `StatePreparation` under the hood\n",
    "\n",
    "Users can continue to use `Initialize` the same as before"
   ]
  },
  {
   "cell_type": "markdown",
   "metadata": {},
   "source": [
    "### Imports"
   ]
  },
  {
   "cell_type": "code",
   "execution_count": 64,
   "metadata": {},
   "outputs": [],
   "source": [
    "import numpy as np\n",
    "import math\n",
    "from qiskit import QuantumCircuit, QuantumRegister, ClassicalRegister\n",
    "\n",
    "from qiskit.extensions.quantum_initializer import Initialize\n",
    "from qiskit.circuit.library import StatePreparation"
   ]
  },
  {
   "cell_type": "markdown",
   "metadata": {},
   "source": [
    "### Initialize Implementation"
   ]
  },
  {
   "cell_type": "code",
   "execution_count": 17,
   "metadata": {},
   "outputs": [
    {
     "data": {
      "text/html": [
       "<pre style=\"word-wrap: normal;white-space: pre;background: #fff0;line-height: 1.1;font-family: &quot;Courier New&quot;,Courier,monospace\">      ┌──────────────────────────────────┐\n",
       "q8_0: ┤0                                 ├\n",
       "      │  Initialize(0.70711,0,0,0.70711) │\n",
       "q8_1: ┤1                                 ├\n",
       "      └──────────────────────────────────┘</pre>"
      ],
      "text/plain": [
       "      ┌──────────────────────────────────┐\n",
       "q8_0: ┤0                                 ├\n",
       "      │  Initialize(0.70711,0,0,0.70711) │\n",
       "q8_1: ┤1                                 ├\n",
       "      └──────────────────────────────────┘"
      ]
     },
     "execution_count": 17,
     "metadata": {},
     "output_type": "execute_result"
    }
   ],
   "source": [
    "qr = QuantumRegister(2)\n",
    "qc_init = QuantumCircuit(qr)\n",
    "\n",
    "# int param\n",
    "init = Initialize(2)\n",
    "\n",
    "# string param\n",
    "# init = Initialize('11')\n",
    "\n",
    "# statevector param\n",
    "# init = Initialize([1 / math.sqrt(2), 0, 0, 1 / math.sqrt(2)])\n",
    "\n",
    "qc_init.append(init, qr)\n",
    "\n",
    "qc_init.draw()"
   ]
  },
  {
   "cell_type": "code",
   "execution_count": 18,
   "metadata": {},
   "outputs": [
    {
     "data": {
      "text/html": [
       "<pre style=\"word-wrap: normal;white-space: pre;background: #fff0;line-height: 1.1;font-family: &quot;Courier New&quot;,Courier,monospace\">           ┌─────────────────────────────────────────┐\n",
       "q8_0: ─|0>─┤0                                        ├\n",
       "           │  State Preparation(0.70711,0,0,0.70711) │\n",
       "q8_1: ─|0>─┤1                                        ├\n",
       "           └─────────────────────────────────────────┘</pre>"
      ],
      "text/plain": [
       "           ┌─────────────────────────────────────────┐\n",
       "q8_0: ─|0>─┤0                                        ├\n",
       "           │  State Preparation(0.70711,0,0,0.70711) │\n",
       "q8_1: ─|0>─┤1                                        ├\n",
       "           └─────────────────────────────────────────┘"
      ]
     },
     "execution_count": 18,
     "metadata": {},
     "output_type": "execute_result"
    }
   ],
   "source": [
    "qc_init.decompose().draw()"
   ]
  },
  {
   "cell_type": "code",
   "execution_count": 19,
   "metadata": {},
   "outputs": [
    {
     "data": {
      "text/html": [
       "<pre style=\"word-wrap: normal;white-space: pre;background: #fff0;line-height: 1.1;font-family: &quot;Courier New&quot;,Courier,monospace\">           ┌──────────────────┐\n",
       "q8_0: ─|0>─┤0                 ├\n",
       "           │  disentangler_dg │\n",
       "q8_1: ─|0>─┤1                 ├\n",
       "           └──────────────────┘</pre>"
      ],
      "text/plain": [
       "           ┌──────────────────┐\n",
       "q8_0: ─|0>─┤0                 ├\n",
       "           │  disentangler_dg │\n",
       "q8_1: ─|0>─┤1                 ├\n",
       "           └──────────────────┘"
      ]
     },
     "execution_count": 19,
     "metadata": {},
     "output_type": "execute_result"
    }
   ],
   "source": [
    "qc_init.decompose().decompose().draw()"
   ]
  },
  {
   "cell_type": "code",
   "execution_count": 21,
   "metadata": {},
   "outputs": [
    {
     "data": {
      "text/html": [
       "<pre style=\"word-wrap: normal;white-space: pre;background: #fff0;line-height: 1.1;font-family: &quot;Courier New&quot;,Courier,monospace\">     ┌────────────────┐\n",
       "q_0: ┤0               ├\n",
       "     │  Initialize(2) │\n",
       "q_1: ┤1               ├\n",
       "     └────────────────┘</pre>"
      ],
      "text/plain": [
       "     ┌────────────────┐\n",
       "q_0: ┤0               ├\n",
       "     │  Initialize(2) │\n",
       "q_1: ┤1               ├\n",
       "     └────────────────┘"
      ]
     },
     "execution_count": 21,
     "metadata": {},
     "output_type": "execute_result"
    }
   ],
   "source": [
    "qc_init2 = QuantumCircuit(2)\n",
    "\n",
    "qc_init2.initialize(2)\n",
    "\n",
    "qc_init2.draw()"
   ]
  },
  {
   "cell_type": "markdown",
   "metadata": {},
   "source": [
    "### StatePreparation Class Implementation"
   ]
  },
  {
   "cell_type": "code",
   "execution_count": 53,
   "metadata": {},
   "outputs": [
    {
     "data": {
      "text/html": [
       "<pre style=\"word-wrap: normal;white-space: pre;background: #fff0;line-height: 1.1;font-family: &quot;Courier New&quot;,Courier,monospace\">     ┌────────────────────────────────┐\n",
       "q_0: ┤0                               ├\n",
       "     │  my state(0.70711,0,0,0.70711) │\n",
       "q_1: ┤1                               ├\n",
       "     └────────────────────────────────┘</pre>"
      ],
      "text/plain": [
       "     ┌────────────────────────────────┐\n",
       "q_0: ┤0                               ├\n",
       "     │  my state(0.70711,0,0,0.70711) │\n",
       "q_1: ┤1                               ├\n",
       "     └────────────────────────────────┘"
      ]
     },
     "execution_count": 53,
     "metadata": {},
     "output_type": "execute_result"
    }
   ],
   "source": [
    "circ = QuantumCircuit(2)\n",
    "\n",
    "# int param\n",
    "# my_state = StatePreparation(2, label=\"my state\")\n",
    "\n",
    "# string param\n",
    "# my_state = StatePreparation('11', label=\"my state\")\n",
    "\n",
    "# statevector param\n",
    "# my_state = StatePreparation([1 / math.sqrt(2), 0, 0, 1 / math.sqrt(2)], label=\"my state\")\n",
    "\n",
    "circ.append(my_state, [0,1])\n",
    "\n",
    "circ.draw()"
   ]
  },
  {
   "cell_type": "code",
   "execution_count": 54,
   "metadata": {},
   "outputs": [
    {
     "data": {
      "text/html": [
       "<pre style=\"word-wrap: normal;white-space: pre;background: #fff0;line-height: 1.1;font-family: &quot;Courier New&quot;,Courier,monospace\">     ┌──────────────────┐\n",
       "q_0: ┤0                 ├\n",
       "     │  disentangler_dg │\n",
       "q_1: ┤1                 ├\n",
       "     └──────────────────┘</pre>"
      ],
      "text/plain": [
       "     ┌──────────────────┐\n",
       "q_0: ┤0                 ├\n",
       "     │  disentangler_dg │\n",
       "q_1: ┤1                 ├\n",
       "     └──────────────────┘"
      ]
     },
     "execution_count": 54,
     "metadata": {},
     "output_type": "execute_result"
    }
   ],
   "source": [
    "circ.decompose().draw()"
   ]
  },
  {
   "cell_type": "markdown",
   "metadata": {},
   "source": [
    "### StatePreparation inverse"
   ]
  },
  {
   "cell_type": "code",
   "execution_count": 55,
   "metadata": {},
   "outputs": [
    {
     "data": {
      "text/html": [
       "<pre style=\"word-wrap: normal;white-space: pre;background: #fff0;line-height: 1.1;font-family: &quot;Courier New&quot;,Courier,monospace\">     ┌────────────────────────────────┐┌───────────────────────────────────┐\n",
       "q_0: ┤0                               ├┤0                                  ├\n",
       "     │  my state(0.70711,0,0,0.70711) ││  my state Dg(0.70711,0,0,0.70711) │\n",
       "q_1: ┤1                               ├┤1                                  ├\n",
       "     └────────────────────────────────┘└───────────────────────────────────┘</pre>"
      ],
      "text/plain": [
       "     ┌────────────────────────────────┐┌───────────────────────────────────┐\n",
       "q_0: ┤0                               ├┤0                                  ├\n",
       "     │  my state(0.70711,0,0,0.70711) ││  my state Dg(0.70711,0,0,0.70711) │\n",
       "q_1: ┤1                               ├┤1                                  ├\n",
       "     └────────────────────────────────┘└───────────────────────────────────┘"
      ]
     },
     "execution_count": 55,
     "metadata": {},
     "output_type": "execute_result"
    }
   ],
   "source": [
    "circ.append(my_state.inverse(), [0,1])\n",
    "circ.draw()"
   ]
  },
  {
   "cell_type": "code",
   "execution_count": 56,
   "metadata": {},
   "outputs": [
    {
     "data": {
      "text/html": [
       "<pre style=\"word-wrap: normal;white-space: pre;background: #fff0;line-height: 1.1;font-family: &quot;Courier New&quot;,Courier,monospace\">     ┌──────────────────┐┌───────────────┐\n",
       "q_0: ┤0                 ├┤0              ├\n",
       "     │  disentangler_dg ││  disentangler │\n",
       "q_1: ┤1                 ├┤1              ├\n",
       "     └──────────────────┘└───────────────┘</pre>"
      ],
      "text/plain": [
       "     ┌──────────────────┐┌───────────────┐\n",
       "q_0: ┤0                 ├┤0              ├\n",
       "     │  disentangler_dg ││  disentangler │\n",
       "q_1: ┤1                 ├┤1              ├\n",
       "     └──────────────────┘└───────────────┘"
      ]
     },
     "execution_count": 56,
     "metadata": {},
     "output_type": "execute_result"
    }
   ],
   "source": [
    "circ.decompose().draw()"
   ]
  },
  {
   "cell_type": "markdown",
   "metadata": {},
   "source": [
    "### StatePreparation Control"
   ]
  },
  {
   "cell_type": "code",
   "execution_count": 72,
   "metadata": {},
   "outputs": [
    {
     "data": {
      "text/html": [
       "<pre style=\"word-wrap: normal;white-space: pre;background: #fff0;line-height: 1.1;font-family: &quot;Courier New&quot;,Courier,monospace\">                                \n",
       "q_0: ─────────────■─────────────\n",
       "     ┌────────────┴────────────┐\n",
       "q_1: ┤0                        ├\n",
       "     │  State Preparation(1,1) │\n",
       "q_2: ┤1                        ├\n",
       "     └─────────────────────────┘</pre>"
      ],
      "text/plain": [
       "                                \n",
       "q_0: ─────────────■─────────────\n",
       "     ┌────────────┴────────────┐\n",
       "q_1: ┤0                        ├\n",
       "     │  State Preparation(1,1) │\n",
       "q_2: ┤1                        ├\n",
       "     └─────────────────────────┘"
      ]
     },
     "execution_count": 72,
     "metadata": {},
     "output_type": "execute_result"
    }
   ],
   "source": [
    "qc_control = QuantumCircuit(3)\n",
    "\n",
    "stateprep = StatePreparation('11')\n",
    "controlled_stateprep = stateprep.control(1)\n",
    "\n",
    "qc_control.append(controlled_stateprep, [0,1,2])\n",
    "\n",
    "qc_control.draw()"
   ]
  },
  {
   "cell_type": "markdown",
   "metadata": {},
   "source": [
    "### prepare_state() a la initialize()"
   ]
  },
  {
   "cell_type": "code",
   "execution_count": 58,
   "metadata": {},
   "outputs": [
    {
     "data": {
      "text/html": [
       "<pre style=\"word-wrap: normal;white-space: pre;background: #fff0;line-height: 1.1;font-family: &quot;Courier New&quot;,Courier,monospace\">     ┌─────────────────────────────────────┐\n",
       "q_0: ┤0                                    ├\n",
       "     │  my cool state(0.70711,0,0,0.70711) │\n",
       "q_1: ┤1                                    ├\n",
       "     └─────────────────────────────────────┘</pre>"
      ],
      "text/plain": [
       "     ┌─────────────────────────────────────┐\n",
       "q_0: ┤0                                    ├\n",
       "     │  my cool state(0.70711,0,0,0.70711) │\n",
       "q_1: ┤1                                    ├\n",
       "     └─────────────────────────────────────┘"
      ]
     },
     "execution_count": 58,
     "metadata": {},
     "output_type": "execute_result"
    }
   ],
   "source": [
    "qc = QuantumCircuit(2)\n",
    "\n",
    "# int param\n",
    "# qc.prepare_state(2, label=\"my cool state\")\n",
    "\n",
    "# string param\n",
    "# qc.prepare_state('11', label=\"my cool state\")\n",
    "\n",
    "# statevector param\n",
    "qc.prepare_state([1 / math.sqrt(2), 0, 0, 1 / math.sqrt(2)], label=\"my cool state\")\n",
    "\n",
    "qc.draw()"
   ]
  },
  {
   "cell_type": "markdown",
   "metadata": {},
   "source": [
    "## Potential Areas of Further Development\n",
    "\n",
    "- Could allow users to specify synthesis (e.g. could call `Isometry`)\n",
    "- Currently `StatePreparation` assumes starting in |0> state"
   ]
  },
  {
   "cell_type": "code",
   "execution_count": null,
   "metadata": {},
   "outputs": [],
   "source": []
  }
 ],
 "metadata": {
  "kernelspec": {
   "display_name": "Python 3",
   "language": "python",
   "name": "python3"
  },
  "language_info": {
   "codemirror_mode": {
    "name": "ipython",
    "version": 3
   },
   "file_extension": ".py",
   "mimetype": "text/x-python",
   "name": "python",
   "nbconvert_exporter": "python",
   "pygments_lexer": "ipython3",
   "version": "3.9.0"
  }
 },
 "nbformat": 4,
 "nbformat_minor": 4
}
