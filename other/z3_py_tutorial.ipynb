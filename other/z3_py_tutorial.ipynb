{
 "cells": [
  {
   "cell_type": "code",
   "execution_count": 1,
   "metadata": {},
   "outputs": [],
   "source": [
    "from z3 import *"
   ]
  },
  {
   "cell_type": "code",
   "execution_count": 2,
   "metadata": {},
   "outputs": [
    {
     "name": "stdout",
     "output_type": "stream",
     "text": [
      "[y = 0, x = 7]\n"
     ]
    }
   ],
   "source": [
    "x = Int('x')\n",
    "y = Int('y')\n",
    "solve(x > 2, y < 10, x + 2*y == 7)"
   ]
  },
  {
   "cell_type": "code",
   "execution_count": 5,
   "metadata": {},
   "outputs": [
    {
     "name": "stdout",
     "output_type": "stream",
     "text": [
      "3 + 3*x + y\n",
      "Not(y <= -2)\n",
      "And(x >= 2, 2*x**2 + y**2 >= 3)\n"
     ]
    }
   ],
   "source": [
    "x = Int('x')\n",
    "y = Int('y')\n",
    "sim1 = simplify(x + y + 2*x + 3)\n",
    "sim2 = simplify(x < y + x + 2)\n",
    "sim3 = simplify(And(x + 1 >= 3, x**2 + x**2 + y**2 + 2 >= 5))\n",
    "print(sim1)\n",
    "print(sim2)\n",
    "print(sim3)"
   ]
  },
  {
   "cell_type": "code",
   "execution_count": 7,
   "metadata": {},
   "outputs": [
    {
     "name": "stdout",
     "output_type": "stream",
     "text": [
      "x**2 + y**2 >= 1\n",
      "x**2 + y**2 >= 1\n"
     ]
    }
   ],
   "source": [
    "x = Int('x')\n",
    "y = Int('y')\n",
    "print(x**2 + y**2 >= 1)\n",
    "set_option(html_mode=False)\n",
    "print(x**2 + y**2 >= 1)"
   ]
  },
  {
   "cell_type": "code",
   "execution_count": 8,
   "metadata": {},
   "outputs": [
    {
     "name": "stdout",
     "output_type": "stream",
     "text": [
      "num args:  2\n",
      "children:  [x + y, 3]\n",
      "1st child: x + y\n",
      "2nd child: 3\n",
      "operator:  >=\n",
      "op name:   >=\n"
     ]
    }
   ],
   "source": [
    "x = Int('x')\n",
    "y = Int('y')\n",
    "n = x + y >= 3\n",
    "print(\"num args: \", n.num_args())\n",
    "print(\"children: \", n.children())\n",
    "print(\"1st child:\", n.arg(0))\n",
    "print(\"2nd child:\", n.arg(1))\n",
    "print(\"operator: \", n.decl())\n",
    "print(\"op name:  \", n.decl().name())"
   ]
  },
  {
   "cell_type": "code",
   "execution_count": 9,
   "metadata": {},
   "outputs": [
    {
     "name": "stdout",
     "output_type": "stream",
     "text": [
      "[y = 2, x = 1/8]\n"
     ]
    }
   ],
   "source": [
    "x = Real('x')\n",
    "y = Real('y')\n",
    "solve(x**2 + y**2 > 3, x**3 + y < 5)"
   ]
  },
  {
   "cell_type": "code",
   "execution_count": 10,
   "metadata": {},
   "outputs": [
    {
     "name": "stdout",
     "output_type": "stream",
     "text": [
      "[y = -1.1885280594?, x = 1.2599210498?]\n",
      "Solving, and displaying result with 30 decimal places\n",
      "[y = -1.188528059421316533710369365015?,\n",
      " x = 1.259921049894873164767210607278?]\n"
     ]
    }
   ],
   "source": [
    "x = Real('x')\n",
    "y = Real('y')\n",
    "solve(x**2 + y**2 == 3, x**3 == 2)\n",
    "\n",
    "set_option(precision=30)\n",
    "print(\"Solving, and displaying result with 30 decimal places\")\n",
    "solve(x**2 + y**2 == 3, x**3 == 2)"
   ]
  },
  {
   "cell_type": "code",
   "execution_count": 11,
   "metadata": {},
   "outputs": [
    {
     "name": "stdout",
     "output_type": "stream",
     "text": [
      "[x = 1/3]\n",
      "[x = 0.333333333333333333333333333333?]\n",
      "[x = 0.333333333333333333333333333333?]\n"
     ]
    }
   ],
   "source": [
    "x = Real('x')\n",
    "solve(3*x == 1)\n",
    "\n",
    "set_option(rational_to_decimal=True)\n",
    "solve(3*x == 1)\n",
    "\n",
    "set_option(precision=30)\n",
    "solve(3*x == 1)\n",
    "\n"
   ]
  },
  {
   "cell_type": "code",
   "execution_count": 12,
   "metadata": {},
   "outputs": [
    {
     "name": "stdout",
     "output_type": "stream",
     "text": [
      "no solution\n"
     ]
    }
   ],
   "source": [
    "x = Real('x')\n",
    "solve(x > 4, x < 0)"
   ]
  },
  {
   "cell_type": "code",
   "execution_count": 13,
   "metadata": {},
   "outputs": [
    {
     "name": "stdout",
     "output_type": "stream",
     "text": [
      "[q = True, p = False, r = False]\n"
     ]
    }
   ],
   "source": [
    "p = Bool('p')\n",
    "q = Bool('q')\n",
    "r = Bool('r')\n",
    "solve(Implies(p, q), r == Not(q), Or(Not(p), r))"
   ]
  },
  {
   "cell_type": "code",
   "execution_count": 2,
   "metadata": {},
   "outputs": [
    {
     "name": "stdout",
     "output_type": "stream",
     "text": [
      "And(p, q, True)\n",
      "And(p, q)\n",
      "False\n"
     ]
    }
   ],
   "source": [
    "p = Bool('p')\n",
    "q = Bool('q')\n",
    "print(And(p, q, True))\n",
    "print(simplify(And(p, q, True)))\n",
    "print(simplify(And(p, False)))"
   ]
  },
  {
   "cell_type": "code",
   "execution_count": 17,
   "metadata": {},
   "outputs": [
    {
     "name": "stdout",
     "output_type": "stream",
     "text": [
      "[x = -1.414213562373095048801688724209?, p = False]\n"
     ]
    }
   ],
   "source": [
    "p = Bool('p')\n",
    "x = Real('x')\n",
    "solve(Or(x < 5, x > 10), Or(p, x**2 == 2), Not(p))"
   ]
  },
  {
   "cell_type": "code",
   "execution_count": 20,
   "metadata": {},
   "outputs": [
    {
     "name": "stdout",
     "output_type": "stream",
     "text": [
      "[]\n",
      "[x > 10, y == x + 2]\n",
      "Solving constraints in the solver s ...\n",
      "sat\n",
      "Create a new scope...\n",
      "[x > 10, y == x + 2, y < 11]\n",
      "Solving updated set of constraints...\n",
      "unsat\n",
      "Restoring state...\n",
      "[x > 10, y == x + 2]\n",
      "Solving restored set of constraints...\n",
      "sat\n"
     ]
    }
   ],
   "source": [
    "x = Int('x')\n",
    "y = Int('y')\n",
    "\n",
    "s = Solver()\n",
    "print(s)\n",
    "\n",
    "s.add(x > 10, y == x + 2)\n",
    "print(s)\n",
    "print(\"Solving constraints in the solver s ...\")\n",
    "print(s.check())\n",
    "\n",
    "print(\"Create a new scope...\")\n",
    "s.push()\n",
    "s.add(y < 11) #add a constraint\n",
    "print(s)\n",
    "print(\"Solving updated set of constraints...\")\n",
    "print(s.check())\n",
    "\n",
    "print(\"Restoring state...\")\n",
    "s.pop()\n",
    "print(s)\n",
    "print(\"Solving restored set of constraints...\")\n",
    "print(s.check())"
   ]
  },
  {
   "cell_type": "code",
   "execution_count": 22,
   "metadata": {},
   "outputs": [],
   "source": [
    "# The command Solver() creates a general purpose solver. Constraints can be added using the method add. \n",
    "# We say the constraints have been asserted in the solver. The method check() solves the asserted constraints. \n",
    "# The result is sat (satisfiable) if a solution was found. The result is unsat (unsatisfiable) if no solution exists.\n",
    "# We may also say the system of asserted constraints is infeasible. Finally, a solver may fail to solve a system of\n",
    "# constraints and unknown is returned.\n",
    "\n",
    "# In some applications, we want to explore several similar problems that share several constraints. We can use the\n",
    "# commands push and pop for doing that. Each solver maintains a stack of assertions. The command push creates a new\n",
    "# scope by saving the current stack size. The command pop removes any assertion performed between it and the matching\n",
    "# push. The check method always operates on the content of solver assertion stack."
   ]
  },
  {
   "cell_type": "code",
   "execution_count": 25,
   "metadata": {},
   "outputs": [
    {
     "name": "stdout",
     "output_type": "stream",
     "text": [
      "unknown\n"
     ]
    }
   ],
   "source": [
    "#  unsolvable\n",
    "x = Real('x')\n",
    "s = Solver()\n",
    "s.add(2**x == 3)\n",
    "print(s.check())"
   ]
  },
  {
   "cell_type": "code",
   "execution_count": 29,
   "metadata": {},
   "outputs": [
    {
     "name": "stdout",
     "output_type": "stream",
     "text": [
      "asserted constraints...\n",
      "x > 1\n",
      "y > 1\n",
      "Or(x + y > 3, x - y < 2)\n",
      "sat\n",
      "statistics for the last check method...\n",
      "(:arith-make-feasible 3\n",
      " :arith-max-columns   8\n",
      " :arith-max-rows      2\n",
      " :arith-upper         4\n",
      " :decisions           2\n",
      " :final-checks        1\n",
      " :max-memory          3.08\n",
      " :memory              2.73\n",
      " :mk-bool-var         6\n",
      " :num-allocs          453275\n",
      " :num-checks          1\n",
      " :rlimit-count        5661\n",
      " :time                0.01)\n",
      "mk bool var : 1\n",
      "decisions : 2\n",
      "final checks : 1\n",
      "num checks : 1\n",
      "mk bool var : 5\n",
      "arith-upper : 4\n",
      "arith-make-feasible : 3\n",
      "arith-max-columns : 8\n",
      "arith-max-rows : 2\n",
      "num allocs : 453286\n",
      "rlimit count : 5661\n",
      "max memory : 3.08\n",
      "memory : 2.73\n",
      "time : 0.01\n"
     ]
    }
   ],
   "source": [
    "x = Real('x')\n",
    "y = Real('y')\n",
    "s = Solver()\n",
    "s.add(x > 1, y > 1, Or(x + y > 3, x - y < 2))\n",
    "print(\"asserted constraints...\")\n",
    "for c in s.assertions():\n",
    "    print(c)\n",
    "\n",
    "print(s.check())\n",
    "print(\"statistics for the last check method...\")\n",
    "print(s.statistics())\n",
    "# Traversing statistics\n",
    "for k, v in s.statistics():\n",
    "    print(\"%s : %s\" % (k, v))"
   ]
  },
  {
   "cell_type": "code",
   "execution_count": 30,
   "metadata": {},
   "outputs": [
    {
     "name": "stdout",
     "output_type": "stream",
     "text": [
      "sat\n",
      "x = 1.5\n",
      "traversing model...\n",
      "z = 0\n",
      "y = 2\n",
      "x = 1.5\n"
     ]
    }
   ],
   "source": [
    "x, y, z = Reals('x y z')\n",
    "s = Solver()\n",
    "s.add(x > 1, y > 1, x + y > 3, z - x < 10)\n",
    "print(s.check())\n",
    "\n",
    "m = s.model()\n",
    "print(\"x = %s\" % m[x]) # The expression m[x] returns the interpretation of x in the model m\n",
    "\n",
    "print(\"traversing model...\")\n",
    "for d in m.decls():\n",
    "    print(\"%s = %s\" % (d.name(), m[d]))"
   ]
  },
  {
   "cell_type": "code",
   "execution_count": 5,
   "metadata": {},
   "outputs": [
    {
     "name": "stdout",
     "output_type": "stream",
     "text": [
      "And(p, q) == Not(Or(Not(p), Not(q)))\n",
      "Proving demorgan...\n",
      "proved\n"
     ]
    }
   ],
   "source": [
    "p, q = Bools('p q')\n",
    "demorgan = And(p, q) == Not(Or(Not(p), Not(q)))\n",
    "print(demorgan)\n",
    "\n",
    "def prove(f):\n",
    "    s = Solver()\n",
    "    s.add(Not(f))\n",
    "    if s.check() == unsat:\n",
    "        print(\"proved\")\n",
    "    else:\n",
    "        print(\"failed to prove\")\n",
    "\n",
    "print(\"Proving demorgan...\")\n",
    "prove(demorgan)\n",
    "\n",
    "\n",
    "\n"
   ]
  },
  {
   "cell_type": "code",
   "execution_count": 6,
   "metadata": {},
   "outputs": [
    {
     "name": "stdout",
     "output_type": "stream",
     "text": [
      "[cat = 41, mouse = 56, dog = 3]\n"
     ]
    }
   ],
   "source": [
    "# Create 3 integer variables\n",
    "dog, cat, mouse = Ints('dog cat mouse')\n",
    "solve(dog >= 1,   # at least one dog\n",
    "      cat >= 1,   # at least one cat\n",
    "      mouse >= 1, # at least one mouse\n",
    "      # we want to buy 100 animals\n",
    "      dog + cat + mouse == 100,\n",
    "      # We have 100 dollars (10000 cents):\n",
    "      #   dogs cost 15 dollars (1500 cents), \n",
    "      #   cats cost 1 dollar (100 cents), and \n",
    "      #   mice cost 25 cents \n",
    "      1500 * dog + 100 * cat + 25 * mouse == 10000)"
   ]
  },
  {
   "cell_type": "code",
   "execution_count": null,
   "metadata": {},
   "outputs": [],
   "source": []
  }
 ],
 "metadata": {
  "kernelspec": {
   "display_name": "Python 3",
   "language": "python",
   "name": "python3"
  },
  "language_info": {
   "codemirror_mode": {
    "name": "ipython",
    "version": 3
   },
   "file_extension": ".py",
   "mimetype": "text/x-python",
   "name": "python",
   "nbconvert_exporter": "python",
   "pygments_lexer": "ipython3",
   "version": "3.7.6"
  }
 },
 "nbformat": 4,
 "nbformat_minor": 4
}
